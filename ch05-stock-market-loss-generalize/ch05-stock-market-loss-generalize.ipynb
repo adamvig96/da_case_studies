{
 "cells": [
  {
   "cell_type": "markdown",
   "metadata": {},
   "source": [
    "#### Prepared for Gabor's Data Analysis\n",
    "\n",
    "### Data Analysis for Business, Economics, and Policy\n",
    "by Gabor Bekes and  Gabor Kezdi\n",
    " \n",
    "Cambridge University Press 2021\n",
    "\n",
    "**[gabors-data-analysis.com ](https://gabors-data-analysis.com/)**\n",
    "\n",
    " License: Free to share, modify and use for educational purposes. \n",
    " Not to be used for commercial purposes.\n",
    "\n",
    "### Chapter 05\n",
    "**CH05A What Likelihood of Loss to Expect on a Stock Portfolio?**\n",
    "\n",
    "using the sp500 dataset\n",
    "\n",
    "version 1.0 2021-05-05"
   ]
  },
  {
   "cell_type": "code",
   "execution_count": 1,
   "metadata": {},
   "outputs": [],
   "source": [
    "import os\n",
    "import sys\n",
    "import warnings\n",
    "\n",
    "import numpy as np\n",
    "import pandas as pd\n",
    "from mizani.formatters import percent_format\n",
    "from plotnine import *\n",
    "from datetime import datetime\n",
    "from scipy.stats import norm\n",
    "\n",
    "warnings.filterwarnings(\"ignore\")\n"
   ]
  },
  {
   "cell_type": "code",
   "execution_count": 2,
   "metadata": {},
   "outputs": [],
   "source": [
    "# Current script folder\n",
    "current_path = os.getcwd()\n",
    "dirname = current_path.split(\"da_case_studies\")[0]\n",
    "\n",
    "# location folders\n",
    "data_in = dirname + \"da_data_repo/sp500/clean/\"\n",
    "data_out = dirname + \"da_case_studies/ch05-stock-market-loss-generalize/\"\n",
    "output = dirname + \"da_case_studies/ch05-stock-market-loss-generalize/output/\"\n",
    "func = dirname + \"da_case_studies/ch00-tech-prep/\"\n",
    "sys.path.append(func)\n"
   ]
  },
  {
   "cell_type": "code",
   "execution_count": 3,
   "metadata": {},
   "outputs": [],
   "source": [
    "# Import the prewritten helper functions\n",
    "from py_helper_functions import *\n"
   ]
  },
  {
   "cell_type": "code",
   "execution_count": 4,
   "metadata": {},
   "outputs": [],
   "source": [
    "sp500 = (\n",
    "    pd.read_csv(data_in + \"SP500_2006_16_data.csv\")\n",
    "    .replace(\"\", np.nan)\n",
    "    .replace(\"#N/A\", np.nan)\n",
    ")\n",
    "sp500 = sp500.dropna().reset_index(drop=True)\n"
   ]
  },
  {
   "cell_type": "code",
   "execution_count": 5,
   "metadata": {},
   "outputs": [],
   "source": [
    "# CREATE PERCENT RETURN\n",
    "sp500[\"pct_return\"] = (\n",
    "    (sp500[\"VALUE\"] - sp500.set_index(\"DATE\").shift(1).reset_index(drop=True)[\"VALUE\"])\n",
    "    / sp500.set_index(\"DATE\").shift(1).reset_index(drop=True)[\"VALUE\"]\n",
    "    * 100\n",
    ")\n"
   ]
  },
  {
   "cell_type": "code",
   "execution_count": 6,
   "metadata": {},
   "outputs": [],
   "source": [
    "sp500[\"DATE\"] = pd.to_datetime(sp500[\"DATE\"], format=\"%Y-%m-%d\")\n",
    "sp500[\"year\"] = sp500[\"DATE\"].apply(lambda x: x.year)\n",
    "sp500[\"month\"] = sp500[\"DATE\"].apply(lambda x: x.month)\n",
    "sp500[\"yearmonth\"] = sp500[\"year\"] * 100 + sp500[\"month\"]\n"
   ]
  },
  {
   "cell_type": "code",
   "execution_count": 7,
   "metadata": {
    "scrolled": false
   },
   "outputs": [
    {
     "data": {
      "image/png": "[encoded data removed]",
      "text/plain": [
       "<Figure size 640x480 with 1 Axes>"
      ]
     },
     "metadata": {},
     "output_type": "display_data"
    },
    {
     "data": {
      "text/plain": [
       "<ggplot: (402451219)>"
      ]
     },
     "execution_count": 7,
     "metadata": {},
     "output_type": "execute_result"
    }
   ],
   "source": [
    "(\n",
    "    ggplot(sp500, aes(\"pct_return\"))\n",
    "    + geom_histogram(\n",
    "        binwidth=0.25, color=\"white\", fill=color[0], boundary=0, closed=\"left\"\n",
    "    )\n",
    "    + geom_vline(xintercept=-5, size=0.7, color=color[1])\n",
    "    + labs(x=\"Daily return (percent)\", y=\"Frequency\")\n",
    "    + coord_cartesian(xlim=[-10, 10], ylim=[0, 400])\n",
    "    + scale_y_continuous(expand=[0, 0])\n",
    "    + geom_segment(aes(x=-6, y=220, xend=-5, yend=220))\n",
    "    + annotate(\"text\", x=-8, y=220, label=\"5% loss\", size=12)\n",
    "    + theme_bw()\n",
    ")\n"
   ]
  },
  {
   "cell_type": "code",
   "execution_count": 8,
   "metadata": {},
   "outputs": [],
   "source": [
    "pct_return = sp500.pct_return.dropna()\n"
   ]
  },
  {
   "cell_type": "code",
   "execution_count": 9,
   "metadata": {},
   "outputs": [],
   "source": [
    "def create_samples(vector, n_samples, n_obs):\n",
    "    samples_pcloss = [None] * (n_samples + 1)\n",
    "    for i in range(1, n_samples + 1):\n",
    "        single_sample = np.random.choice(vector, size=n_obs, replace=False)\n",
    "        samples_pcloss[i] = sum(single_sample < -5) / n_obs * 100\n",
    "    return samples_pcloss\n"
   ]
  },
  {
   "cell_type": "code",
   "execution_count": 10,
   "metadata": {},
   "outputs": [],
   "source": [
    "np.random.seed = 123\n",
    "nobs_1000 = create_samples(pct_return, 10000, 1000)\n",
    "nobs_500 = create_samples(pct_return, 10000, 500)\n"
   ]
  },
  {
   "cell_type": "code",
   "execution_count": 11,
   "metadata": {},
   "outputs": [],
   "source": [
    "nobs_df = pd.DataFrame({\"nobs_500\": nobs_500, \"nobs_1000\": nobs_1000}).drop(0)\n"
   ]
  },
  {
   "cell_type": "code",
   "execution_count": 12,
   "metadata": {},
   "outputs": [
    {
     "data": {
      "text/html": [
       "<div>\n",
       "<style scoped>\n",
       "    .dataframe tbody tr th:only-of-type {\n",
       "        vertical-align: middle;\n",
       "    }\n",
       "\n",
       "    .dataframe tbody tr th {\n",
       "        vertical-align: top;\n",
       "    }\n",
       "\n",
       "    .dataframe thead th {\n",
       "        text-align: right;\n",
       "    }\n",
       "</style>\n",
       "<table border=\"1\" class=\"dataframe\">\n",
       "  <thead>\n",
       "    <tr style=\"text-align: right;\">\n",
       "      <th></th>\n",
       "      <th>nobs_500</th>\n",
       "      <th>nobs_1000</th>\n",
       "    </tr>\n",
       "  </thead>\n",
       "  <tbody>\n",
       "    <tr>\n",
       "      <th>1</th>\n",
       "      <td>0.4</td>\n",
       "      <td>0.5</td>\n",
       "    </tr>\n",
       "    <tr>\n",
       "      <th>2</th>\n",
       "      <td>1.0</td>\n",
       "      <td>0.6</td>\n",
       "    </tr>\n",
       "    <tr>\n",
       "      <th>3</th>\n",
       "      <td>0.4</td>\n",
       "      <td>0.7</td>\n",
       "    </tr>\n",
       "    <tr>\n",
       "      <th>4</th>\n",
       "      <td>0.6</td>\n",
       "      <td>0.5</td>\n",
       "    </tr>\n",
       "    <tr>\n",
       "      <th>5</th>\n",
       "      <td>0.6</td>\n",
       "      <td>0.4</td>\n",
       "    </tr>\n",
       "    <tr>\n",
       "      <th>...</th>\n",
       "      <td>...</td>\n",
       "      <td>...</td>\n",
       "    </tr>\n",
       "    <tr>\n",
       "      <th>9996</th>\n",
       "      <td>0.8</td>\n",
       "      <td>0.3</td>\n",
       "    </tr>\n",
       "    <tr>\n",
       "      <th>9997</th>\n",
       "      <td>0.6</td>\n",
       "      <td>0.7</td>\n",
       "    </tr>\n",
       "    <tr>\n",
       "      <th>9998</th>\n",
       "      <td>0.6</td>\n",
       "      <td>0.5</td>\n",
       "    </tr>\n",
       "    <tr>\n",
       "      <th>9999</th>\n",
       "      <td>0.6</td>\n",
       "      <td>0.4</td>\n",
       "    </tr>\n",
       "    <tr>\n",
       "      <th>10000</th>\n",
       "      <td>0.6</td>\n",
       "      <td>0.5</td>\n",
       "    </tr>\n",
       "  </tbody>\n",
       "</table>\n",
       "<p>10000 rows × 2 columns</p>\n",
       "</div>"
      ],
      "text/plain": [
       "       nobs_500  nobs_1000\n",
       "1           0.4        0.5\n",
       "2           1.0        0.6\n",
       "3           0.4        0.7\n",
       "4           0.6        0.5\n",
       "5           0.6        0.4\n",
       "...         ...        ...\n",
       "9996        0.8        0.3\n",
       "9997        0.6        0.7\n",
       "9998        0.6        0.5\n",
       "9999        0.6        0.4\n",
       "10000       0.6        0.5\n",
       "\n",
       "[10000 rows x 2 columns]"
      ]
     },
     "execution_count": 12,
     "metadata": {},
     "output_type": "execute_result"
    }
   ],
   "source": [
    "nobs_df\n"
   ]
  },
  {
   "cell_type": "code",
   "execution_count": 13,
   "metadata": {},
   "outputs": [],
   "source": [
    "error = (\n",
    "    norm.ppf(0.975) * np.std(nobs_df[\"nobs_1000\"]) / np.sqrt(len(nobs_df[\"nobs_1000\"]))\n",
    ")\n",
    "left = np.mean(nobs_df[\"nobs_1000\"]) - error\n",
    "right = np.mean(nobs_df[\"nobs_1000\"]) + error\n"
   ]
  },
  {
   "cell_type": "code",
   "execution_count": 14,
   "metadata": {},
   "outputs": [
    {
     "data": {
      "image/png": "[encoded data removed]",
      "text/plain": [
       "<Figure size 640x480 with 1 Axes>"
      ]
     },
     "metadata": {},
     "output_type": "display_data"
    },
    {
     "data": {
      "text/plain": [
       "<ggplot: (675995453)>"
      ]
     },
     "execution_count": 14,
     "metadata": {},
     "output_type": "execute_result"
    }
   ],
   "source": [
    "# Figure 5.2\n",
    "(\n",
    "    ggplot(nobs_df, aes(nobs_1000[1:]))\n",
    "    + geom_histogram(\n",
    "        binwidth=0.1,\n",
    "        color=\"white\",\n",
    "        fill=color[0],\n",
    "        alpha=0.8,\n",
    "        center=0.75,\n",
    "        closed=\"left\",\n",
    "    )\n",
    "    + labs(x=\"Percent of days with losses of 5% or more\", y=\"Frequency\")\n",
    "    + geom_vline(\n",
    "        aes(xintercept=np.mean(pd.Series(nobs_500).dropna())), color=color[1], size=0.7\n",
    "    )\n",
    "    + coord_cartesian(xlim=[0, 1.5], ylim=(0, 2500))\n",
    "    + scale_x_continuous(expand=(0.01, 0.01), limits=(0, 1.5), breaks=seq(0, 1.6, 0.25))\n",
    "    + scale_y_continuous(\n",
    "        expand=(0.00, 0.00), limits=(0, 2500), breaks=seq(0, 2501, 500)\n",
    "    )\n",
    "    + geom_segment(aes(x=0.8, y=2000, xend=0.52, yend=2000))\n",
    "    + annotate(\"text\", x=0.9, y=2000, label=\"Mean\", size=12)\n",
    "    + theme_bw()\n",
    ")\n"
   ]
  },
  {
   "cell_type": "code",
   "execution_count": 15,
   "metadata": {
    "scrolled": false
   },
   "outputs": [
    {
     "data": {
      "image/png": "[encoded data removed]",
      "text/plain": [
       "<Figure size 640x480 with 1 Axes>"
      ]
     },
     "metadata": {},
     "output_type": "display_data"
    },
    {
     "data": {
      "text/plain": [
       "<ggplot: (676501312)>"
      ]
     },
     "execution_count": 15,
     "metadata": {},
     "output_type": "execute_result"
    }
   ],
   "source": [
    "# Figure 5.3 - NOt working with epanechnikov kernel\n",
    "(\n",
    "    ggplot(nobs_df)\n",
    "    + stat_density(aes(x=\"nobs_1000\"), color=color[0], geom=\"line\", bw=0.45, size=1)\n",
    "    + stat_density(\n",
    "        aes(\"nobs_500\"),\n",
    "        color=color[1],\n",
    "        geom=\"line\",\n",
    "        bw=0.45,\n",
    "        linetype=\"dashdot\",\n",
    "        size=1,\n",
    "    )\n",
    "    + labs(x=\"Percent of days with losses over 5%\", y=\"Density\")\n",
    "    + geom_vline(xintercept=0.5, color=color[2], size=0.7, linetype=\"dashed\")\n",
    "    + geom_segment(\n",
    "        aes(x=0.9, y=0.72, xend=0.65, yend=0.72),\n",
    "        size=0.5,\n",
    "    )\n",
    "    + annotate(\"text\", x=1.1, y=0.72, label=\"Larger sample\", size=12)\n",
    "    + geom_segment(aes(x=0.9, y=0.68, xend=0.65, yend=0.68), size=0.5)\n",
    "    + annotate(\"text\", x=1.1, y=0.68, label=\"Smaller sample\", size=12)\n",
    "    + scale_x_continuous(\n",
    "        expand=(0.01, 0.01), limits=(0, 1.5), breaks=seq(0, 1.51, 0.25)\n",
    "    )\n",
    "    + scale_y_continuous(expand=(0.00, 0.00), limits=(0, 1), breaks=seq(0, 0.81, 0.2))\n",
    "    + theme_bw()\n",
    "    + theme(\n",
    "        legend_position=\"none\",\n",
    "    )\n",
    ")\n"
   ]
  },
  {
   "cell_type": "code",
   "execution_count": 16,
   "metadata": {},
   "outputs": [
    {
     "data": {
      "image/png": "[encoded data removed]",
      "text/plain": [
       "<Figure size 640x480 with 1 Axes>"
      ]
     },
     "metadata": {},
     "output_type": "display_data"
    },
    {
     "data": {
      "text/plain": [
       "<ggplot: (676510772)>"
      ]
     },
     "execution_count": 16,
     "metadata": {},
     "output_type": "execute_result"
    }
   ],
   "source": [
    "(\n",
    "    ggplot(nobs_df)\n",
    "    + geom_histogram(\n",
    "        aes(x=\"nobs_500\", y=\"stat(count)/sum(stat(count))*100\"),\n",
    "        color=color[0],\n",
    "        fill=\"blue\",\n",
    "        binwidth=0.2,\n",
    "        center=0.5,\n",
    "        size=0.7,\n",
    "        alpha=0.4,\n",
    "        closed=\"left\",\n",
    "    )\n",
    "    + geom_histogram(\n",
    "        aes(x=\"nobs_1000\", y=\"stat(count)/sum(stat(count))*100\"),\n",
    "        color=color[1],\n",
    "        fill=\"green\",\n",
    "        binwidth=0.2,\n",
    "        center=0.5,\n",
    "        alpha=0.1,\n",
    "        size=0.7,\n",
    "        closed=\"left\",\n",
    "    )\n",
    "    + ylab(\"Percent\")\n",
    "    + xlab(\"Percent of days with losses over 5%\")\n",
    "    + scale_x_continuous(\n",
    "        expand=(0.01, 0.01), limits=(-0.01, 1.6), breaks=seq(0, 1.6, 0.2)\n",
    "    )\n",
    "    + scale_y_continuous(expand=(0.00, 0.00), limits=(0, 50))\n",
    "    + scale_color_manual(\n",
    "        labels=(\"N = 1000\", \"N = 500\"), name=\"\", values=(color[1], color[0])\n",
    "    )\n",
    "    + scale_alpha_identity()\n",
    "    + scale_fill_identity()\n",
    "    + theme_bw()\n",
    "    + theme(\n",
    "        legend_direction=\"horizontal\",\n",
    "    )\n",
    ")\n"
   ]
  },
  {
   "cell_type": "code",
   "execution_count": 17,
   "metadata": {},
   "outputs": [],
   "source": [
    "####################################\n",
    "# BOOTSRTAP SAMPLES\n",
    "np.random.seed = 573164\n",
    "M = 10000\n",
    "Results = np.zeros((M, 10))\n"
   ]
  },
  {
   "cell_type": "code",
   "execution_count": 18,
   "metadata": {},
   "outputs": [],
   "source": [
    "for i in range(1, M + 1):\n",
    "    bsample = np.random.choice(sp500[\"pct_return\"], size=sp500.shape[0], replace=True)\n",
    "    for j in range(1, 11):\n",
    "        loss = pd.Series(bsample < (-j)).apply(lambda x: float(x)) * 100\n",
    "        Results[i - 1, j - 1] = np.mean(loss)\n"
   ]
  },
  {
   "cell_type": "code",
   "execution_count": 19,
   "metadata": {},
   "outputs": [],
   "source": [
    "Results = pd.DataFrame(\n",
    "    Results,\n",
    "    columns=[\n",
    "        \"loss1\",\n",
    "        \"loss2\",\n",
    "        \"loss3\",\n",
    "        \"loss4\",\n",
    "        \"loss5\",\n",
    "        \"loss6\",\n",
    "        \"loss7\",\n",
    "        \"loss8\",\n",
    "        \"loss9\",\n",
    "        \"loss10\",\n",
    "    ],\n",
    ")\n"
   ]
  },
  {
   "cell_type": "code",
   "execution_count": 20,
   "metadata": {},
   "outputs": [
    {
     "data": {
      "text/html": [
       "<div>\n",
       "<style scoped>\n",
       "    .dataframe tbody tr th:only-of-type {\n",
       "        vertical-align: middle;\n",
       "    }\n",
       "\n",
       "    .dataframe tbody tr th {\n",
       "        vertical-align: top;\n",
       "    }\n",
       "\n",
       "    .dataframe thead th {\n",
       "        text-align: right;\n",
       "    }\n",
       "</style>\n",
       "<table border=\"1\" class=\"dataframe\">\n",
       "  <thead>\n",
       "    <tr style=\"text-align: right;\">\n",
       "      <th></th>\n",
       "      <th>loss1</th>\n",
       "      <th>loss2</th>\n",
       "      <th>loss3</th>\n",
       "      <th>loss4</th>\n",
       "      <th>loss5</th>\n",
       "      <th>loss6</th>\n",
       "      <th>loss7</th>\n",
       "      <th>loss8</th>\n",
       "      <th>loss9</th>\n",
       "      <th>loss10</th>\n",
       "    </tr>\n",
       "  </thead>\n",
       "  <tbody>\n",
       "    <tr>\n",
       "      <th>0</th>\n",
       "      <td>13.457721</td>\n",
       "      <td>5.160778</td>\n",
       "      <td>2.421596</td>\n",
       "      <td>1.151250</td>\n",
       "      <td>0.674871</td>\n",
       "      <td>0.516078</td>\n",
       "      <td>0.317586</td>\n",
       "      <td>0.317586</td>\n",
       "      <td>0.039698</td>\n",
       "      <td>0.0</td>\n",
       "    </tr>\n",
       "    <tr>\n",
       "      <th>1</th>\n",
       "      <td>15.998412</td>\n",
       "      <td>6.272330</td>\n",
       "      <td>2.381898</td>\n",
       "      <td>1.349742</td>\n",
       "      <td>0.674871</td>\n",
       "      <td>0.476380</td>\n",
       "      <td>0.238190</td>\n",
       "      <td>0.119095</td>\n",
       "      <td>0.039698</td>\n",
       "      <td>0.0</td>\n",
       "    </tr>\n",
       "    <tr>\n",
       "      <th>2</th>\n",
       "      <td>13.854704</td>\n",
       "      <td>4.803493</td>\n",
       "      <td>2.024613</td>\n",
       "      <td>0.873362</td>\n",
       "      <td>0.317586</td>\n",
       "      <td>0.198491</td>\n",
       "      <td>0.198491</td>\n",
       "      <td>0.079397</td>\n",
       "      <td>0.079397</td>\n",
       "      <td>0.0</td>\n",
       "    </tr>\n",
       "    <tr>\n",
       "      <th>3</th>\n",
       "      <td>13.934101</td>\n",
       "      <td>5.637158</td>\n",
       "      <td>2.104010</td>\n",
       "      <td>1.270345</td>\n",
       "      <td>0.754268</td>\n",
       "      <td>0.396983</td>\n",
       "      <td>0.158793</td>\n",
       "      <td>0.158793</td>\n",
       "      <td>0.039698</td>\n",
       "      <td>0.0</td>\n",
       "    </tr>\n",
       "    <tr>\n",
       "      <th>4</th>\n",
       "      <td>15.442636</td>\n",
       "      <td>5.478364</td>\n",
       "      <td>2.540691</td>\n",
       "      <td>1.429139</td>\n",
       "      <td>0.873362</td>\n",
       "      <td>0.516078</td>\n",
       "      <td>0.357285</td>\n",
       "      <td>0.277888</td>\n",
       "      <td>0.119095</td>\n",
       "      <td>0.0</td>\n",
       "    </tr>\n",
       "    <tr>\n",
       "      <th>...</th>\n",
       "      <td>...</td>\n",
       "      <td>...</td>\n",
       "      <td>...</td>\n",
       "      <td>...</td>\n",
       "      <td>...</td>\n",
       "      <td>...</td>\n",
       "      <td>...</td>\n",
       "      <td>...</td>\n",
       "      <td>...</td>\n",
       "      <td>...</td>\n",
       "    </tr>\n",
       "    <tr>\n",
       "      <th>9995</th>\n",
       "      <td>14.767765</td>\n",
       "      <td>4.922588</td>\n",
       "      <td>1.945216</td>\n",
       "      <td>0.873362</td>\n",
       "      <td>0.516078</td>\n",
       "      <td>0.238190</td>\n",
       "      <td>0.158793</td>\n",
       "      <td>0.079397</td>\n",
       "      <td>0.079397</td>\n",
       "      <td>0.0</td>\n",
       "    </tr>\n",
       "    <tr>\n",
       "      <th>9996</th>\n",
       "      <td>13.100437</td>\n",
       "      <td>5.319571</td>\n",
       "      <td>1.984915</td>\n",
       "      <td>0.913061</td>\n",
       "      <td>0.635173</td>\n",
       "      <td>0.476380</td>\n",
       "      <td>0.198491</td>\n",
       "      <td>0.119095</td>\n",
       "      <td>0.039698</td>\n",
       "      <td>0.0</td>\n",
       "    </tr>\n",
       "    <tr>\n",
       "      <th>9997</th>\n",
       "      <td>13.735609</td>\n",
       "      <td>4.922588</td>\n",
       "      <td>1.945216</td>\n",
       "      <td>0.793966</td>\n",
       "      <td>0.516078</td>\n",
       "      <td>0.357285</td>\n",
       "      <td>0.277888</td>\n",
       "      <td>0.198491</td>\n",
       "      <td>0.000000</td>\n",
       "      <td>0.0</td>\n",
       "    </tr>\n",
       "    <tr>\n",
       "      <th>9998</th>\n",
       "      <td>15.204446</td>\n",
       "      <td>5.121080</td>\n",
       "      <td>2.342199</td>\n",
       "      <td>1.151250</td>\n",
       "      <td>0.833664</td>\n",
       "      <td>0.436681</td>\n",
       "      <td>0.238190</td>\n",
       "      <td>0.198491</td>\n",
       "      <td>0.079397</td>\n",
       "      <td>0.0</td>\n",
       "    </tr>\n",
       "    <tr>\n",
       "      <th>9999</th>\n",
       "      <td>13.973799</td>\n",
       "      <td>5.121080</td>\n",
       "      <td>2.024613</td>\n",
       "      <td>0.555776</td>\n",
       "      <td>0.277888</td>\n",
       "      <td>0.238190</td>\n",
       "      <td>0.158793</td>\n",
       "      <td>0.158793</td>\n",
       "      <td>0.039698</td>\n",
       "      <td>0.0</td>\n",
       "    </tr>\n",
       "  </tbody>\n",
       "</table>\n",
       "<p>10000 rows × 10 columns</p>\n",
       "</div>"
      ],
      "text/plain": [
       "          loss1     loss2     loss3     loss4     loss5     loss6     loss7  \\\n",
       "0     13.457721  5.160778  2.421596  1.151250  0.674871  0.516078  0.317586   \n",
       "1     15.998412  6.272330  2.381898  1.349742  0.674871  0.476380  0.238190   \n",
       "2     13.854704  4.803493  2.024613  0.873362  0.317586  0.198491  0.198491   \n",
       "3     13.934101  5.637158  2.104010  1.270345  0.754268  0.396983  0.158793   \n",
       "4     15.442636  5.478364  2.540691  1.429139  0.873362  0.516078  0.357285   \n",
       "...         ...       ...       ...       ...       ...       ...       ...   \n",
       "9995  14.767765  4.922588  1.945216  0.873362  0.516078  0.238190  0.158793   \n",
       "9996  13.100437  5.319571  1.984915  0.913061  0.635173  0.476380  0.198491   \n",
       "9997  13.735609  4.922588  1.945216  0.793966  0.516078  0.357285  0.277888   \n",
       "9998  15.204446  5.121080  2.342199  1.151250  0.833664  0.436681  0.238190   \n",
       "9999  13.973799  5.121080  2.024613  0.555776  0.277888  0.238190  0.158793   \n",
       "\n",
       "         loss8     loss9  loss10  \n",
       "0     0.317586  0.039698     0.0  \n",
       "1     0.119095  0.039698     0.0  \n",
       "2     0.079397  0.079397     0.0  \n",
       "3     0.158793  0.039698     0.0  \n",
       "4     0.277888  0.119095     0.0  \n",
       "...        ...       ...     ...  \n",
       "9995  0.079397  0.079397     0.0  \n",
       "9996  0.119095  0.039698     0.0  \n",
       "9997  0.198491  0.000000     0.0  \n",
       "9998  0.198491  0.079397     0.0  \n",
       "9999  0.158793  0.039698     0.0  \n",
       "\n",
       "[10000 rows x 10 columns]"
      ]
     },
     "execution_count": 20,
     "metadata": {},
     "output_type": "execute_result"
    }
   ],
   "source": [
    "Results\n"
   ]
  },
  {
   "cell_type": "code",
   "execution_count": 21,
   "metadata": {},
   "outputs": [
    {
     "data": {
      "image/png": "[encoded data removed]",
      "text/plain": [
       "<Figure size 640x480 with 1 Axes>"
      ]
     },
     "metadata": {},
     "output_type": "display_data"
    },
    {
     "data": {
      "text/plain": [
       "<ggplot: (676502029)>"
      ]
     },
     "execution_count": 21,
     "metadata": {},
     "output_type": "execute_result"
    }
   ],
   "source": [
    "(\n",
    "    ggplot(Results, aes(\"loss5\"))\n",
    "    + geom_histogram(\n",
    "        fill=color[0], color=\"white\", binwidth=0.04, boundary=0, closed=\"left\"\n",
    "    )\n",
    "    + scale_y_continuous(expand=(0, 0), limits=(0, 1200), breaks=seq(0, 1201, 200))\n",
    "    + scale_x_continuous(expand=(0.01, 0.01), limits=(0, 1.2), breaks=seq(0, 1.21, 0.1))\n",
    "    + labs(x=\"Percent of days with losses of 5% or more\", y=\"Frequency\")\n",
    "    + theme_bw()\n",
    ")\n"
   ]
  }
 ],
 "metadata": {
  "kernelspec": {
   "display_name": "Python 3.8.9 ('da_case_studies-TgTp0_0o')",
   "language": "python",
   "name": "python3"
  },
  "language_info": {
   "codemirror_mode": {
    "name": "ipython",
    "version": 3
   },
   "file_extension": ".py",
   "mimetype": "text/x-python",
   "name": "python",
   "nbconvert_exporter": "python",
   "pygments_lexer": "ipython3",
   "version": "3.8.10"
  },
  "vscode": {
   "interpreter": {
    "hash": "c01754e8627d0ea60fdf9a984fbf743943cf4db47884120dd04bfc512143b077"
   }
  }
 },
 "nbformat": 4,
 "nbformat_minor": 4
}
