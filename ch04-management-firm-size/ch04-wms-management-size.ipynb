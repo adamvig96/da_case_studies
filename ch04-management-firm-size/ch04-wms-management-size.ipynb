{
 "cells": [
  {
   "cell_type": "markdown",
   "metadata": {},
   "source": [
    "#### Prepared for Gabor's Data Analysis\n",
    "\n",
    "### Data Analysis for Business, Economics, and Policy\n",
    "by Gabor Bekes and  Gabor Kezdi\n",
    " \n",
    "Cambridge University Press 2021\n",
    "\n",
    "**[gabors-data-analysis.com ](https://gabors-data-analysis.com/)**\n",
    "\n",
    " License: Free to share, modify and use for educational purposes. \n",
    " Not to be used for commercial purposes.\n",
    "\n",
    "### Chapter 04\n",
    "**CH04A Management quality and firm size: describing patterns of association**\n",
    "\n",
    "using the wms-management-survey dataset\n",
    "\n",
    "version 1.0 2021-05-05"
   ]
  },
  {
   "cell_type": "code",
   "execution_count": 1,
   "metadata": {},
   "outputs": [],
   "source": [
    "import os\n",
    "import sys\n",
    "\n",
    "import numpy as np\n",
    "import pandas as pd\n",
    "from mizani.formatters import percent_format\n",
    "from plotnine import *\n",
    "\n",
    "# Current script folder\n",
    "current_path = os.getcwd()\n",
    "dirname = current_path.split(\"da_case_studies\")[0]\n",
    "\n",
    "# location folders\n",
    "data_in = dirname + \"da_data_repo/wms-management-survey/clean/\"\n",
    "data_out = dirname + \"da_case_studies/ch04-management-firm-size/\"\n",
    "output = dirname + \"da_case_studies/ch04-management-firm-size/output/\"\n",
    "func = dirname + \"da_case_studies/ch00-tech-prep/\"\n",
    "sys.path.append(func)\n",
    "\n",
    "\n",
    "from py_helper_functions import *\n"
   ]
  },
  {
   "cell_type": "code",
   "execution_count": 2,
   "metadata": {},
   "outputs": [],
   "source": [
    "import warnings\n",
    "\n",
    "warnings.filterwarnings(\"ignore\")\n"
   ]
  },
  {
   "cell_type": "code",
   "execution_count": 3,
   "metadata": {},
   "outputs": [],
   "source": [
    "# Import data\n",
    "df = pd.read_csv(data_in + \"wms_da_textbook.csv\")\n"
   ]
  },
  {
   "cell_type": "code",
   "execution_count": 4,
   "metadata": {},
   "outputs": [],
   "source": [
    "# Sample selection\n",
    "df = df.loc[\n",
    "    lambda x: (x[\"country\"] == \"Mexico\")\n",
    "    & (x[\"wave\"] == 2013)\n",
    "    & (x[\"emp_firm\"] >= 100)\n",
    "    & (x[\"emp_firm\"] <= 5000)\n",
    "]\n"
   ]
  },
  {
   "cell_type": "code",
   "execution_count": 5,
   "metadata": {},
   "outputs": [
    {
     "data": {
      "text/plain": [
       "count     300.000000\n",
       "mean      761.140000\n",
       "std       977.035685\n",
       "min       100.000000\n",
       "25%       200.000000\n",
       "50%       353.000000\n",
       "75%       900.000000\n",
       "max      5000.000000\n",
       "Name: emp_firm, dtype: float64"
      ]
     },
     "execution_count": 5,
     "metadata": {},
     "output_type": "execute_result"
    }
   ],
   "source": [
    "df.emp_firm.describe()\n"
   ]
  },
  {
   "cell_type": "code",
   "execution_count": 6,
   "metadata": {},
   "outputs": [
    {
     "data": {
      "text/html": [
       "<div>\n",
       "<style scoped>\n",
       "    .dataframe tbody tr th:only-of-type {\n",
       "        vertical-align: middle;\n",
       "    }\n",
       "\n",
       "    .dataframe tbody tr th {\n",
       "        vertical-align: top;\n",
       "    }\n",
       "\n",
       "    .dataframe thead th {\n",
       "        text-align: right;\n",
       "    }\n",
       "</style>\n",
       "<table border=\"1\" class=\"dataframe\">\n",
       "  <thead>\n",
       "    <tr style=\"text-align: right;\">\n",
       "      <th></th>\n",
       "      <th>management</th>\n",
       "      <th>emp_firm</th>\n",
       "    </tr>\n",
       "  </thead>\n",
       "  <tbody>\n",
       "    <tr>\n",
       "      <th>count</th>\n",
       "      <td>300.000000</td>\n",
       "      <td>300.000000</td>\n",
       "    </tr>\n",
       "    <tr>\n",
       "      <th>mean</th>\n",
       "      <td>2.938519</td>\n",
       "      <td>761.140000</td>\n",
       "    </tr>\n",
       "    <tr>\n",
       "      <th>std</th>\n",
       "      <td>0.601059</td>\n",
       "      <td>977.035685</td>\n",
       "    </tr>\n",
       "    <tr>\n",
       "      <th>min</th>\n",
       "      <td>1.277778</td>\n",
       "      <td>100.000000</td>\n",
       "    </tr>\n",
       "    <tr>\n",
       "      <th>25%</th>\n",
       "      <td>2.555556</td>\n",
       "      <td>200.000000</td>\n",
       "    </tr>\n",
       "    <tr>\n",
       "      <th>50%</th>\n",
       "      <td>2.944444</td>\n",
       "      <td>353.000000</td>\n",
       "    </tr>\n",
       "    <tr>\n",
       "      <th>75%</th>\n",
       "      <td>3.277778</td>\n",
       "      <td>900.000000</td>\n",
       "    </tr>\n",
       "    <tr>\n",
       "      <th>max</th>\n",
       "      <td>4.611111</td>\n",
       "      <td>5000.000000</td>\n",
       "    </tr>\n",
       "  </tbody>\n",
       "</table>\n",
       "</div>"
      ],
      "text/plain": [
       "       management     emp_firm\n",
       "count  300.000000   300.000000\n",
       "mean     2.938519   761.140000\n",
       "std      0.601059   977.035685\n",
       "min      1.277778   100.000000\n",
       "25%      2.555556   200.000000\n",
       "50%      2.944444   353.000000\n",
       "75%      3.277778   900.000000\n",
       "max      4.611111  5000.000000"
      ]
     },
     "execution_count": 6,
     "metadata": {},
     "output_type": "execute_result"
    }
   ],
   "source": [
    "# Save workfile\n",
    "df.to_csv(data_out + \"ch04-wms-work.csv\", index=False)\n",
    "# Summary\n",
    "df.loc[:, [\"management\", \"emp_firm\"]].describe()\n"
   ]
  },
  {
   "cell_type": "markdown",
   "metadata": {},
   "source": [
    "### Figure 4.1 Distribution of the management score variable"
   ]
  },
  {
   "cell_type": "code",
   "execution_count": 7,
   "metadata": {},
   "outputs": [
    {
     "data": {
      "image/png": "[encoded data removed]",
      "text/plain": [
       "<Figure size 640x480 with 1 Axes>"
      ]
     },
     "metadata": {},
     "output_type": "display_data"
    },
    {
     "data": {
      "text/plain": [
       "<ggplot: (373699738)>"
      ]
     },
     "execution_count": 7,
     "metadata": {},
     "output_type": "execute_result"
    }
   ],
   "source": [
    "(\n",
    "    ggplot(df, aes(x=\"management\"))\n",
    "    + geom_histogram(\n",
    "        aes(y=\"stat(count)/sum(stat(count))\"),\n",
    "        fill=color[0],\n",
    "        color=\"white\",\n",
    "        binwidth=0.25,\n",
    "        boundary=0,\n",
    "        closed=\"left\",\n",
    "    )\n",
    "    + labs(x=\"Management score\", y=\"Percent\")\n",
    "    + scale_x_continuous(expand=(0.01, 0.01), limits=(1, 5))\n",
    "    + scale_y_continuous(\n",
    "        expand=(0.00, 0.00),\n",
    "        limits=(0, 0.25),\n",
    "        breaks=seq(0, 0.26, by=0.05),\n",
    "        labels=percent_format(),\n",
    "    )\n",
    "    + theme_bw()\n",
    ")\n"
   ]
  },
  {
   "cell_type": "markdown",
   "metadata": {},
   "source": [
    "### Figure 4.2 The distribution of employment"
   ]
  },
  {
   "cell_type": "markdown",
   "metadata": {},
   "source": [
    "(a) Number of employees"
   ]
  },
  {
   "cell_type": "code",
   "execution_count": 8,
   "metadata": {},
   "outputs": [
    {
     "data": {
      "image/png": "[encoded data removed]",
      "text/plain": [
       "<Figure size 640x480 with 1 Axes>"
      ]
     },
     "metadata": {},
     "output_type": "display_data"
    },
    {
     "data": {
      "text/plain": [
       "<ggplot: (373708448)>"
      ]
     },
     "execution_count": 8,
     "metadata": {},
     "output_type": "execute_result"
    }
   ],
   "source": [
    "(\n",
    "    ggplot(df, aes(x=\"emp_firm\", y=\"stat(count)/sum(stat(count))\"))\n",
    "    + geom_histogram(\n",
    "        fill=color[0], color=\"white\", binwidth=200, boundary=0, closed=\"left\"\n",
    "    )\n",
    "    + labs(x=\"Firm size (employment)\", y=\"Percent\")\n",
    "    + scale_x_continuous(\n",
    "        expand=(0.01, 0.01), limits=(0, 5000), breaks=seq(0, 5001, by=1000)\n",
    "    )\n",
    "    + scale_y_continuous(\n",
    "        expand=(0.00, 0.00),\n",
    "        limits=(0, 0.3),\n",
    "        breaks=seq(0, 0.5, by=0.05),\n",
    "        labels=percent_format(),\n",
    "    )\n",
    "    + theme_bw()\n",
    ")\n"
   ]
  },
  {
   "cell_type": "code",
   "execution_count": 9,
   "metadata": {},
   "outputs": [
    {
     "data": {
      "text/html": [
       "<div>\n",
       "<style scoped>\n",
       "    .dataframe tbody tr th:only-of-type {\n",
       "        vertical-align: middle;\n",
       "    }\n",
       "\n",
       "    .dataframe tbody tr th {\n",
       "        vertical-align: top;\n",
       "    }\n",
       "\n",
       "    .dataframe thead th {\n",
       "        text-align: right;\n",
       "    }\n",
       "</style>\n",
       "<table border=\"1\" class=\"dataframe\">\n",
       "  <thead>\n",
       "    <tr style=\"text-align: right;\">\n",
       "      <th></th>\n",
       "      <th>firmid</th>\n",
       "      <th>wave</th>\n",
       "      <th>sic</th>\n",
       "      <th>management</th>\n",
       "      <th>operations</th>\n",
       "      <th>monitor</th>\n",
       "      <th>target</th>\n",
       "      <th>people</th>\n",
       "      <th>lean1</th>\n",
       "      <th>lean2</th>\n",
       "      <th>...</th>\n",
       "      <th>aa_196</th>\n",
       "      <th>aa_197</th>\n",
       "      <th>aa_198</th>\n",
       "      <th>aa_199</th>\n",
       "      <th>aa_200</th>\n",
       "      <th>aa_201</th>\n",
       "      <th>aa_202</th>\n",
       "      <th>aa_203</th>\n",
       "      <th>aa_204</th>\n",
       "      <th>aa_205</th>\n",
       "    </tr>\n",
       "  </thead>\n",
       "  <tbody>\n",
       "    <tr>\n",
       "      <th>count</th>\n",
       "      <td>300.000000</td>\n",
       "      <td>300.0</td>\n",
       "      <td>300.000000</td>\n",
       "      <td>300.000000</td>\n",
       "      <td>300.000000</td>\n",
       "      <td>300.000000</td>\n",
       "      <td>300.000000</td>\n",
       "      <td>300.000000</td>\n",
       "      <td>300.000000</td>\n",
       "      <td>300.000000</td>\n",
       "      <td>...</td>\n",
       "      <td>300.0</td>\n",
       "      <td>300.0</td>\n",
       "      <td>300.0</td>\n",
       "      <td>300.0</td>\n",
       "      <td>300.0</td>\n",
       "      <td>300.0</td>\n",
       "      <td>300.0</td>\n",
       "      <td>300.0</td>\n",
       "      <td>300.0</td>\n",
       "      <td>300.0</td>\n",
       "    </tr>\n",
       "    <tr>\n",
       "      <th>mean</th>\n",
       "      <td>7977.316667</td>\n",
       "      <td>2013.0</td>\n",
       "      <td>29.390000</td>\n",
       "      <td>2.938519</td>\n",
       "      <td>2.815000</td>\n",
       "      <td>3.320667</td>\n",
       "      <td>2.746667</td>\n",
       "      <td>2.821111</td>\n",
       "      <td>2.783333</td>\n",
       "      <td>2.846667</td>\n",
       "      <td>...</td>\n",
       "      <td>0.0</td>\n",
       "      <td>0.0</td>\n",
       "      <td>0.0</td>\n",
       "      <td>0.0</td>\n",
       "      <td>0.0</td>\n",
       "      <td>0.0</td>\n",
       "      <td>0.0</td>\n",
       "      <td>0.0</td>\n",
       "      <td>0.0</td>\n",
       "      <td>0.0</td>\n",
       "    </tr>\n",
       "    <tr>\n",
       "      <th>std</th>\n",
       "      <td>118.193890</td>\n",
       "      <td>0.0</td>\n",
       "      <td>5.684977</td>\n",
       "      <td>0.601059</td>\n",
       "      <td>0.959868</td>\n",
       "      <td>0.764934</td>\n",
       "      <td>0.705892</td>\n",
       "      <td>0.551878</td>\n",
       "      <td>1.039225</td>\n",
       "      <td>1.039273</td>\n",
       "      <td>...</td>\n",
       "      <td>0.0</td>\n",
       "      <td>0.0</td>\n",
       "      <td>0.0</td>\n",
       "      <td>0.0</td>\n",
       "      <td>0.0</td>\n",
       "      <td>0.0</td>\n",
       "      <td>0.0</td>\n",
       "      <td>0.0</td>\n",
       "      <td>0.0</td>\n",
       "      <td>0.0</td>\n",
       "    </tr>\n",
       "    <tr>\n",
       "      <th>min</th>\n",
       "      <td>7778.000000</td>\n",
       "      <td>2013.0</td>\n",
       "      <td>20.000000</td>\n",
       "      <td>1.277778</td>\n",
       "      <td>1.000000</td>\n",
       "      <td>1.000000</td>\n",
       "      <td>1.200000</td>\n",
       "      <td>1.166667</td>\n",
       "      <td>1.000000</td>\n",
       "      <td>1.000000</td>\n",
       "      <td>...</td>\n",
       "      <td>0.0</td>\n",
       "      <td>0.0</td>\n",
       "      <td>0.0</td>\n",
       "      <td>0.0</td>\n",
       "      <td>0.0</td>\n",
       "      <td>0.0</td>\n",
       "      <td>0.0</td>\n",
       "      <td>0.0</td>\n",
       "      <td>0.0</td>\n",
       "      <td>0.0</td>\n",
       "    </tr>\n",
       "    <tr>\n",
       "      <th>25%</th>\n",
       "      <td>7872.500000</td>\n",
       "      <td>2013.0</td>\n",
       "      <td>25.000000</td>\n",
       "      <td>2.555556</td>\n",
       "      <td>2.500000</td>\n",
       "      <td>2.800000</td>\n",
       "      <td>2.200000</td>\n",
       "      <td>2.500000</td>\n",
       "      <td>2.000000</td>\n",
       "      <td>2.000000</td>\n",
       "      <td>...</td>\n",
       "      <td>0.0</td>\n",
       "      <td>0.0</td>\n",
       "      <td>0.0</td>\n",
       "      <td>0.0</td>\n",
       "      <td>0.0</td>\n",
       "      <td>0.0</td>\n",
       "      <td>0.0</td>\n",
       "      <td>0.0</td>\n",
       "      <td>0.0</td>\n",
       "      <td>0.0</td>\n",
       "    </tr>\n",
       "    <tr>\n",
       "      <th>50%</th>\n",
       "      <td>7973.000000</td>\n",
       "      <td>2013.0</td>\n",
       "      <td>30.000000</td>\n",
       "      <td>2.944444</td>\n",
       "      <td>3.000000</td>\n",
       "      <td>3.400000</td>\n",
       "      <td>2.800000</td>\n",
       "      <td>2.833333</td>\n",
       "      <td>3.000000</td>\n",
       "      <td>3.000000</td>\n",
       "      <td>...</td>\n",
       "      <td>0.0</td>\n",
       "      <td>0.0</td>\n",
       "      <td>0.0</td>\n",
       "      <td>0.0</td>\n",
       "      <td>0.0</td>\n",
       "      <td>0.0</td>\n",
       "      <td>0.0</td>\n",
       "      <td>0.0</td>\n",
       "      <td>0.0</td>\n",
       "      <td>0.0</td>\n",
       "    </tr>\n",
       "    <tr>\n",
       "      <th>75%</th>\n",
       "      <td>8083.500000</td>\n",
       "      <td>2013.0</td>\n",
       "      <td>34.000000</td>\n",
       "      <td>3.277778</td>\n",
       "      <td>3.500000</td>\n",
       "      <td>3.800000</td>\n",
       "      <td>3.200000</td>\n",
       "      <td>3.166667</td>\n",
       "      <td>4.000000</td>\n",
       "      <td>4.000000</td>\n",
       "      <td>...</td>\n",
       "      <td>0.0</td>\n",
       "      <td>0.0</td>\n",
       "      <td>0.0</td>\n",
       "      <td>0.0</td>\n",
       "      <td>0.0</td>\n",
       "      <td>0.0</td>\n",
       "      <td>0.0</td>\n",
       "      <td>0.0</td>\n",
       "      <td>0.0</td>\n",
       "      <td>0.0</td>\n",
       "    </tr>\n",
       "    <tr>\n",
       "      <th>max</th>\n",
       "      <td>8180.000000</td>\n",
       "      <td>2013.0</td>\n",
       "      <td>39.000000</td>\n",
       "      <td>4.611111</td>\n",
       "      <td>5.000000</td>\n",
       "      <td>5.000000</td>\n",
       "      <td>4.600000</td>\n",
       "      <td>4.333333</td>\n",
       "      <td>5.000000</td>\n",
       "      <td>5.000000</td>\n",
       "      <td>...</td>\n",
       "      <td>0.0</td>\n",
       "      <td>0.0</td>\n",
       "      <td>0.0</td>\n",
       "      <td>0.0</td>\n",
       "      <td>0.0</td>\n",
       "      <td>0.0</td>\n",
       "      <td>0.0</td>\n",
       "      <td>0.0</td>\n",
       "      <td>0.0</td>\n",
       "      <td>0.0</td>\n",
       "    </tr>\n",
       "  </tbody>\n",
       "</table>\n",
       "<p>8 rows × 240 columns</p>\n",
       "</div>"
      ],
      "text/plain": [
       "            firmid    wave         sic  management  operations     monitor  \\\n",
       "count   300.000000   300.0  300.000000  300.000000  300.000000  300.000000   \n",
       "mean   7977.316667  2013.0   29.390000    2.938519    2.815000    3.320667   \n",
       "std     118.193890     0.0    5.684977    0.601059    0.959868    0.764934   \n",
       "min    7778.000000  2013.0   20.000000    1.277778    1.000000    1.000000   \n",
       "25%    7872.500000  2013.0   25.000000    2.555556    2.500000    2.800000   \n",
       "50%    7973.000000  2013.0   30.000000    2.944444    3.000000    3.400000   \n",
       "75%    8083.500000  2013.0   34.000000    3.277778    3.500000    3.800000   \n",
       "max    8180.000000  2013.0   39.000000    4.611111    5.000000    5.000000   \n",
       "\n",
       "           target      people       lean1       lean2  ...  aa_196  aa_197  \\\n",
       "count  300.000000  300.000000  300.000000  300.000000  ...   300.0   300.0   \n",
       "mean     2.746667    2.821111    2.783333    2.846667  ...     0.0     0.0   \n",
       "std      0.705892    0.551878    1.039225    1.039273  ...     0.0     0.0   \n",
       "min      1.200000    1.166667    1.000000    1.000000  ...     0.0     0.0   \n",
       "25%      2.200000    2.500000    2.000000    2.000000  ...     0.0     0.0   \n",
       "50%      2.800000    2.833333    3.000000    3.000000  ...     0.0     0.0   \n",
       "75%      3.200000    3.166667    4.000000    4.000000  ...     0.0     0.0   \n",
       "max      4.600000    4.333333    5.000000    5.000000  ...     0.0     0.0   \n",
       "\n",
       "       aa_198  aa_199  aa_200  aa_201  aa_202  aa_203  aa_204  aa_205  \n",
       "count   300.0   300.0   300.0   300.0   300.0   300.0   300.0   300.0  \n",
       "mean      0.0     0.0     0.0     0.0     0.0     0.0     0.0     0.0  \n",
       "std       0.0     0.0     0.0     0.0     0.0     0.0     0.0     0.0  \n",
       "min       0.0     0.0     0.0     0.0     0.0     0.0     0.0     0.0  \n",
       "25%       0.0     0.0     0.0     0.0     0.0     0.0     0.0     0.0  \n",
       "50%       0.0     0.0     0.0     0.0     0.0     0.0     0.0     0.0  \n",
       "75%       0.0     0.0     0.0     0.0     0.0     0.0     0.0     0.0  \n",
       "max       0.0     0.0     0.0     0.0     0.0     0.0     0.0     0.0  \n",
       "\n",
       "[8 rows x 240 columns]"
      ]
     },
     "execution_count": 9,
     "metadata": {},
     "output_type": "execute_result"
    }
   ],
   "source": [
    "df.describe()\n"
   ]
  },
  {
   "cell_type": "code",
   "execution_count": 10,
   "metadata": {},
   "outputs": [],
   "source": [
    "#### NOT properly finished\n"
   ]
  },
  {
   "cell_type": "code",
   "execution_count": 11,
   "metadata": {},
   "outputs": [
    {
     "data": {
      "text/plain": [
       "count    300.000000\n",
       "mean       6.081850\n",
       "std        0.992700\n",
       "min        4.605170\n",
       "25%        5.298317\n",
       "50%        5.866432\n",
       "75%        6.802395\n",
       "max        8.517193\n",
       "Name: lnemp, dtype: float64"
      ]
     },
     "execution_count": 11,
     "metadata": {},
     "output_type": "execute_result"
    }
   ],
   "source": [
    "df[\"lnemp\"] = np.log(df.emp_firm)\n",
    "df.lnemp.describe()\n"
   ]
  },
  {
   "cell_type": "markdown",
   "metadata": {},
   "source": [
    "(b) Natural log of number of employees"
   ]
  },
  {
   "cell_type": "code",
   "execution_count": 12,
   "metadata": {},
   "outputs": [
    {
     "data": {
      "image/png": "[encoded data removed]",
      "text/plain": [
       "<Figure size 640x480 with 1 Axes>"
      ]
     },
     "metadata": {},
     "output_type": "display_data"
    },
    {
     "data": {
      "text/plain": [
       "<ggplot: (373520068)>"
      ]
     },
     "execution_count": 12,
     "metadata": {},
     "output_type": "execute_result"
    }
   ],
   "source": [
    "(\n",
    "    ggplot(df, aes(x=\"lnemp\"))\n",
    "    + geom_histogram(\n",
    "        aes(y=\"stat(count)/sum(stat(count))\"),\n",
    "        color=\"white\",\n",
    "        fill=color[0],\n",
    "        binwidth=0.25,\n",
    "        boundary=0,\n",
    "        closed=\"left\",\n",
    "    )\n",
    "    + labs(x=\"Firm size (ln(employment))\", y=\"Percent\")\n",
    "    + scale_x_continuous(expand=(0.01, 0.01), limits=(4, 9))\n",
    "    + scale_y_continuous(\n",
    "        expand=(0.00, 0.00),\n",
    "        limits=(0, 0.2),\n",
    "        breaks=seq(0, 0.2, by=0.04),\n",
    "        labels=percent_format(),\n",
    "    )\n",
    "    + theme_bw()\n",
    ")\n"
   ]
  },
  {
   "cell_type": "code",
   "execution_count": 13,
   "metadata": {},
   "outputs": [],
   "source": [
    "df[\"emp3bins\"] = np.where(df.emp_firm < 200, 1, pd.np.nan)\n",
    "df[\"emp3bins\"] = np.where((df.emp_firm >= 200) & (df.emp_firm < 1000), 2, df.emp3bins)\n",
    "df[\"emp3bins\"] = np.where(df.emp_firm >= 1000, 3, df.emp3bins)\n"
   ]
  },
  {
   "cell_type": "code",
   "execution_count": 14,
   "metadata": {},
   "outputs": [
    {
     "data": {
      "text/plain": [
       "count    300.000000\n",
       "mean       2.000000\n",
       "std        0.693978\n",
       "min        1.000000\n",
       "25%        2.000000\n",
       "50%        2.000000\n",
       "75%        2.000000\n",
       "max        3.000000\n",
       "Name: emp3bins, dtype: float64"
      ]
     },
     "execution_count": 14,
     "metadata": {},
     "output_type": "execute_result"
    }
   ],
   "source": [
    "df.emp3bins.describe()\n"
   ]
  },
  {
   "cell_type": "code",
   "execution_count": 15,
   "metadata": {},
   "outputs": [],
   "source": [
    "df1 = pd.DataFrame(\n",
    "    df.loc[:, [\"emp3bins\", \"lean1\"]].groupby([\"emp3bins\", \"lean1\"]).agg(\"size\")\n",
    ").reset_index()\n",
    "\n",
    "df1.columns = [\"emp3bins\", \"lean1\", \"Count\"]\n",
    "\n",
    "group_counts = df1.groupby(\"emp3bins\").agg(\"sum\")[\"Count\"]\n",
    "\n",
    "df1.loc[df1.emp3bins == 1, \"Percent\"] = round(\n",
    "    df1.loc[df1.emp3bins == 1, \"Count\"] / group_counts[1], 5\n",
    ")\n",
    "df1.loc[df1.emp3bins == 2, \"Percent\"] = round(\n",
    "    df1.loc[df1.emp3bins == 2, \"Count\"] / group_counts[2], 5\n",
    ")\n",
    "df1.loc[df1.emp3bins == 3, \"Percent\"] = round(\n",
    "    df1.loc[df1.emp3bins == 3, \"Count\"] / group_counts[3], 5\n",
    ")\n",
    "\n",
    "df1 = df1.assign(\n",
    "    lean1=pd.Categorical(\n",
    "        df1[\"lean1\"], categories=sorted(set(df[\"lean1\"]), reverse=True)\n",
    "    )\n",
    ")\n"
   ]
  },
  {
   "cell_type": "markdown",
   "metadata": {},
   "source": [
    "### Figure 4.3 Quality of specific management practices by three bins of firm size: conditional probabilities"
   ]
  },
  {
   "cell_type": "markdown",
   "metadata": {},
   "source": [
    "(a) Lean management"
   ]
  },
  {
   "cell_type": "code",
   "execution_count": 16,
   "metadata": {},
   "outputs": [
    {
     "data": {
      "image/png": "[encoded data removed]",
      "text/plain": [
       "<Figure size 640x480 with 1 Axes>"
      ]
     },
     "metadata": {},
     "output_type": "display_data"
    },
    {
     "data": {
      "text/plain": [
       "<ggplot: (373624055)>"
      ]
     },
     "execution_count": 16,
     "metadata": {},
     "output_type": "execute_result"
    }
   ],
   "source": [
    "(\n",
    "    ggplot(df1, aes(x=\"emp3bins\", y=\"Percent\", fill=\"lean1\"))\n",
    "    + geom_bar(\n",
    "        stat=\"identity\", position=\"fill\", width=0.6, color=\"white\", size=0.5, alpha=0.8\n",
    "    )\n",
    "    + scale_y_continuous(\n",
    "        expand=(0, 0),\n",
    "        limits=(0, 1),\n",
    "        breaks=seq(0, 1.1, by=0.2),\n",
    "        labels=percent_format(),\n",
    "    )\n",
    "    + labs(x=\"Firm size (employment), 3 bins\", y=\"Percent\")\n",
    "    + theme_bw()\n",
    "    + theme(legend_position=\"right\")\n",
    "    + scale_fill_manual(\n",
    "        values=(color[2], color[0], color[4], color[1], color[3]), name=\" \"\n",
    "    )\n",
    "    + scale_x_discrete(limits=[1, 2, 3], labels=[\"Small\", \"Medium\", \"Large\"])\n",
    ")\n"
   ]
  },
  {
   "cell_type": "code",
   "execution_count": 17,
   "metadata": {},
   "outputs": [],
   "source": [
    "df1 = pd.DataFrame(\n",
    "    df.loc[:, [\"emp3bins\", \"perf2\"]].groupby([\"emp3bins\", \"perf2\"]).agg(\"size\")\n",
    ").reset_index()\n",
    "\n",
    "df1.columns = [\"emp3bins\", \"perf2\", \"Count\"]\n",
    "\n",
    "group_counts = df1.groupby(\"emp3bins\").agg(\"sum\")[\"Count\"]\n",
    "\n",
    "df1.loc[df1.emp3bins == 1, \"Percent\"] = round(\n",
    "    df1.loc[df1.emp3bins == 1, \"Count\"] / group_counts[1], 5\n",
    ")\n",
    "df1.loc[df1.emp3bins == 2, \"Percent\"] = round(\n",
    "    df1.loc[df1.emp3bins == 2, \"Count\"] / group_counts[2], 5\n",
    ")\n",
    "df1.loc[df1.emp3bins == 3, \"Percent\"] = round(\n",
    "    df1.loc[df1.emp3bins == 3, \"Count\"] / group_counts[3], 5\n",
    ")\n",
    "\n",
    "df1 = df1.assign(\n",
    "    perf2=pd.Categorical(\n",
    "        df1[\"perf2\"], categories=sorted(set(df[\"perf2\"]), reverse=True)\n",
    "    )\n",
    ")\n"
   ]
  },
  {
   "cell_type": "markdown",
   "metadata": {},
   "source": [
    "(b) Performance tracking"
   ]
  },
  {
   "cell_type": "code",
   "execution_count": 18,
   "metadata": {},
   "outputs": [
    {
     "data": {
      "image/png": "[encoded data removed]",
      "text/plain": [
       "<Figure size 640x480 with 1 Axes>"
      ]
     },
     "metadata": {},
     "output_type": "display_data"
    },
    {
     "data": {
      "text/plain": [
       "<ggplot: (373475292)>"
      ]
     },
     "execution_count": 18,
     "metadata": {},
     "output_type": "execute_result"
    }
   ],
   "source": [
    "(\n",
    "    ggplot(df1, aes(x=\"emp3bins\", y=\"Percent\", fill=\"perf2\"))\n",
    "    + geom_bar(\n",
    "        stat=\"identity\", position=\"fill\", width=0.6, color=\"white\", size=0.5, alpha=0.8\n",
    "    )\n",
    "    + scale_y_continuous(\n",
    "        expand=(0, 0),\n",
    "        limits=(0, 1),\n",
    "        breaks=seq(0, 1.1, by=0.2),\n",
    "        labels=percent_format(),\n",
    "    )\n",
    "    + labs(x=\"Firm size (employment), 3 bins\", y=\"Percent\")\n",
    "    + theme_bw()\n",
    "    + theme(legend_position=\"right\")\n",
    "    + scale_fill_manual(\n",
    "        values=(color[2], color[0], color[4], color[1], color[3]), name=\" \"\n",
    "    )\n",
    "    + scale_x_discrete(limits=[1, 2, 3], labels=[\"Small\", \"Medium\", \"Large\"])\n",
    ")\n"
   ]
  },
  {
   "cell_type": "code",
   "execution_count": 19,
   "metadata": {},
   "outputs": [
    {
     "data": {
      "text/html": [
       "<div>\n",
       "<style scoped>\n",
       "    .dataframe tbody tr th:only-of-type {\n",
       "        vertical-align: middle;\n",
       "    }\n",
       "\n",
       "    .dataframe tbody tr th {\n",
       "        vertical-align: top;\n",
       "    }\n",
       "\n",
       "    .dataframe thead tr th {\n",
       "        text-align: left;\n",
       "    }\n",
       "\n",
       "    .dataframe thead tr:last-of-type th {\n",
       "        text-align: right;\n",
       "    }\n",
       "</style>\n",
       "<table border=\"1\" class=\"dataframe\">\n",
       "  <thead>\n",
       "    <tr>\n",
       "      <th></th>\n",
       "      <th colspan=\"6\" halign=\"left\">emp_firm</th>\n",
       "    </tr>\n",
       "    <tr>\n",
       "      <th></th>\n",
       "      <th>min</th>\n",
       "      <th>max</th>\n",
       "      <th>mean</th>\n",
       "      <th>median</th>\n",
       "      <th>std</th>\n",
       "      <th>size</th>\n",
       "    </tr>\n",
       "    <tr>\n",
       "      <th>emp3bins</th>\n",
       "      <th></th>\n",
       "      <th></th>\n",
       "      <th></th>\n",
       "      <th></th>\n",
       "      <th></th>\n",
       "      <th></th>\n",
       "    </tr>\n",
       "  </thead>\n",
       "  <tbody>\n",
       "    <tr>\n",
       "      <th>1.0</th>\n",
       "      <td>100.0</td>\n",
       "      <td>197.0</td>\n",
       "      <td>145.597222</td>\n",
       "      <td>150.0</td>\n",
       "      <td>26.397108</td>\n",
       "      <td>72</td>\n",
       "    </tr>\n",
       "    <tr>\n",
       "      <th>2.0</th>\n",
       "      <td>200.0</td>\n",
       "      <td>994.0</td>\n",
       "      <td>413.153846</td>\n",
       "      <td>353.0</td>\n",
       "      <td>190.397552</td>\n",
       "      <td>156</td>\n",
       "    </tr>\n",
       "    <tr>\n",
       "      <th>3.0</th>\n",
       "      <td>1000.0</td>\n",
       "      <td>5000.0</td>\n",
       "      <td>2130.652778</td>\n",
       "      <td>1650.0</td>\n",
       "      <td>1178.115578</td>\n",
       "      <td>72</td>\n",
       "    </tr>\n",
       "  </tbody>\n",
       "</table>\n",
       "</div>"
      ],
      "text/plain": [
       "         emp_firm                                               \n",
       "              min     max         mean  median          std size\n",
       "emp3bins                                                        \n",
       "1.0         100.0   197.0   145.597222   150.0    26.397108   72\n",
       "2.0         200.0   994.0   413.153846   353.0   190.397552  156\n",
       "3.0        1000.0  5000.0  2130.652778  1650.0  1178.115578   72"
      ]
     },
     "execution_count": 19,
     "metadata": {},
     "output_type": "execute_result"
    }
   ],
   "source": [
    "# Bin scatters avg score by employment bins\n",
    "\n",
    "# Option 1: create 3 bins as defined by thresholds\n",
    "\n",
    "# Summary\n",
    "\n",
    "df.filter([\"emp_firm\", \"emp3bins\"]).groupby(\"emp3bins\").agg(\n",
    "    [\"min\", \"max\", \"mean\", \"median\", np.std, \"size\"]\n",
    ")\n"
   ]
  },
  {
   "cell_type": "code",
   "execution_count": 20,
   "metadata": {},
   "outputs": [],
   "source": [
    "# Recode employee bins\n",
    "df[\"emp3bins\"] = df[\"emp3bins\"].replace(1, 150).replace(2, 600).replace(3, 3000)\n"
   ]
  },
  {
   "cell_type": "code",
   "execution_count": 21,
   "metadata": {},
   "outputs": [
    {
     "data": {
      "text/html": [
       "<div>\n",
       "<style scoped>\n",
       "    .dataframe tbody tr th:only-of-type {\n",
       "        vertical-align: middle;\n",
       "    }\n",
       "\n",
       "    .dataframe tbody tr th {\n",
       "        vertical-align: top;\n",
       "    }\n",
       "\n",
       "    .dataframe thead tr th {\n",
       "        text-align: left;\n",
       "    }\n",
       "\n",
       "    .dataframe thead tr:last-of-type th {\n",
       "        text-align: right;\n",
       "    }\n",
       "</style>\n",
       "<table border=\"1\" class=\"dataframe\">\n",
       "  <thead>\n",
       "    <tr>\n",
       "      <th></th>\n",
       "      <th colspan=\"6\" halign=\"left\">emp_firm</th>\n",
       "    </tr>\n",
       "    <tr>\n",
       "      <th></th>\n",
       "      <th>min</th>\n",
       "      <th>max</th>\n",
       "      <th>mean</th>\n",
       "      <th>median</th>\n",
       "      <th>std</th>\n",
       "      <th>size</th>\n",
       "    </tr>\n",
       "    <tr>\n",
       "      <th>emp3bins</th>\n",
       "      <th></th>\n",
       "      <th></th>\n",
       "      <th></th>\n",
       "      <th></th>\n",
       "      <th></th>\n",
       "      <th></th>\n",
       "    </tr>\n",
       "  </thead>\n",
       "  <tbody>\n",
       "    <tr>\n",
       "      <th>150.0</th>\n",
       "      <td>100.0</td>\n",
       "      <td>197.0</td>\n",
       "      <td>145.597222</td>\n",
       "      <td>150.0</td>\n",
       "      <td>26.397108</td>\n",
       "      <td>72</td>\n",
       "    </tr>\n",
       "    <tr>\n",
       "      <th>600.0</th>\n",
       "      <td>200.0</td>\n",
       "      <td>994.0</td>\n",
       "      <td>413.153846</td>\n",
       "      <td>353.0</td>\n",
       "      <td>190.397552</td>\n",
       "      <td>156</td>\n",
       "    </tr>\n",
       "    <tr>\n",
       "      <th>3000.0</th>\n",
       "      <td>1000.0</td>\n",
       "      <td>5000.0</td>\n",
       "      <td>2130.652778</td>\n",
       "      <td>1650.0</td>\n",
       "      <td>1178.115578</td>\n",
       "      <td>72</td>\n",
       "    </tr>\n",
       "  </tbody>\n",
       "</table>\n",
       "</div>"
      ],
      "text/plain": [
       "         emp_firm                                               \n",
       "              min     max         mean  median          std size\n",
       "emp3bins                                                        \n",
       "150.0       100.0   197.0   145.597222   150.0    26.397108   72\n",
       "600.0       200.0   994.0   413.153846   353.0   190.397552  156\n",
       "3000.0     1000.0  5000.0  2130.652778  1650.0  1178.115578   72"
      ]
     },
     "execution_count": 21,
     "metadata": {},
     "output_type": "execute_result"
    }
   ],
   "source": [
    "# Summary\n",
    "df.filter([\"emp_firm\", \"emp3bins\"]).groupby(\"emp3bins\").agg(\n",
    "    [\"min\", \"max\", \"mean\", \"median\", np.std, \"size\"]\n",
    ")\n"
   ]
  },
  {
   "cell_type": "code",
   "execution_count": 22,
   "metadata": {},
   "outputs": [
    {
     "data": {
      "text/html": [
       "<div>\n",
       "<style scoped>\n",
       "    .dataframe tbody tr th:only-of-type {\n",
       "        vertical-align: middle;\n",
       "    }\n",
       "\n",
       "    .dataframe tbody tr th {\n",
       "        vertical-align: top;\n",
       "    }\n",
       "\n",
       "    .dataframe thead th {\n",
       "        text-align: right;\n",
       "    }\n",
       "</style>\n",
       "<table border=\"1\" class=\"dataframe\">\n",
       "  <thead>\n",
       "    <tr style=\"text-align: right;\">\n",
       "      <th></th>\n",
       "      <th>emp3bins</th>\n",
       "      <th>management_emp3bins</th>\n",
       "    </tr>\n",
       "  </thead>\n",
       "  <tbody>\n",
       "    <tr>\n",
       "      <th>0</th>\n",
       "      <td>150.0</td>\n",
       "      <td>2.679784</td>\n",
       "    </tr>\n",
       "    <tr>\n",
       "      <th>1</th>\n",
       "      <td>600.0</td>\n",
       "      <td>2.943732</td>\n",
       "    </tr>\n",
       "    <tr>\n",
       "      <th>2</th>\n",
       "      <td>3000.0</td>\n",
       "      <td>3.185957</td>\n",
       "    </tr>\n",
       "  </tbody>\n",
       "</table>\n",
       "</div>"
      ],
      "text/plain": [
       "   emp3bins  management_emp3bins\n",
       "0     150.0             2.679784\n",
       "1     600.0             2.943732\n",
       "2    3000.0             3.185957"
      ]
     },
     "execution_count": 22,
     "metadata": {},
     "output_type": "execute_result"
    }
   ],
   "source": [
    "# Generate variables by mean\n",
    "df1 = (\n",
    "    df.groupby(\"emp3bins\").agg(management_emp3bins=(\"management\", \"mean\")).reset_index()\n",
    ")\n",
    "df1\n"
   ]
  },
  {
   "cell_type": "markdown",
   "metadata": {},
   "source": [
    "### Figure 4.4 Mean management quality score and firm size"
   ]
  },
  {
   "cell_type": "markdown",
   "metadata": {},
   "source": [
    "(a) Three bins of employment"
   ]
  },
  {
   "cell_type": "code",
   "execution_count": 23,
   "metadata": {},
   "outputs": [
    {
     "data": {
      "image/png": "[encoded data removed]",
      "text/plain": [
       "<Figure size 640x480 with 1 Axes>"
      ]
     },
     "metadata": {},
     "output_type": "display_data"
    },
    {
     "data": {
      "text/plain": [
       "<ggplot: (380301788)>"
      ]
     },
     "execution_count": 23,
     "metadata": {},
     "output_type": "execute_result"
    }
   ],
   "source": [
    "(\n",
    "    ggplot(df1, aes(x=\"emp3bins\", y=\"management_emp3bins\"))\n",
    "    + geom_point(size=2, color=color[2], fill=color[0], alpha=0.8, na_rm=True)\n",
    "    + scale_y_continuous(\n",
    "        expand=(0.01, 0.01), limits=(2.4, 3.4), breaks=seq(2.4, 3.5, by=0.2)\n",
    "    )\n",
    "    + scale_x_continuous(\n",
    "        expand=(0.01, 0.01), limits=(0, 3000), breaks=seq(0, 3001, by=500)\n",
    "    )\n",
    "    + labs(x=\"Firm size (employment), 3 bins\", y=\"Management score\")\n",
    "    + theme_bw()\n",
    ")\n"
   ]
  },
  {
   "cell_type": "code",
   "execution_count": 24,
   "metadata": {},
   "outputs": [],
   "source": [
    "df[\"emp10bins\"] = pd.qcut(df[\"emp_firm\"], 10)\n"
   ]
  },
  {
   "cell_type": "code",
   "execution_count": 25,
   "metadata": {},
   "outputs": [
    {
     "data": {
      "text/html": [
       "<div>\n",
       "<style scoped>\n",
       "    .dataframe tbody tr th:only-of-type {\n",
       "        vertical-align: middle;\n",
       "    }\n",
       "\n",
       "    .dataframe tbody tr th {\n",
       "        vertical-align: top;\n",
       "    }\n",
       "\n",
       "    .dataframe thead tr th {\n",
       "        text-align: left;\n",
       "    }\n",
       "\n",
       "    .dataframe thead tr:last-of-type th {\n",
       "        text-align: right;\n",
       "    }\n",
       "</style>\n",
       "<table border=\"1\" class=\"dataframe\">\n",
       "  <thead>\n",
       "    <tr>\n",
       "      <th></th>\n",
       "      <th colspan=\"6\" halign=\"left\">emp_firm</th>\n",
       "    </tr>\n",
       "    <tr>\n",
       "      <th></th>\n",
       "      <th>min</th>\n",
       "      <th>max</th>\n",
       "      <th>mean</th>\n",
       "      <th>median</th>\n",
       "      <th>std</th>\n",
       "      <th>size</th>\n",
       "    </tr>\n",
       "    <tr>\n",
       "      <th>emp10bins</th>\n",
       "      <th></th>\n",
       "      <th></th>\n",
       "      <th></th>\n",
       "      <th></th>\n",
       "      <th></th>\n",
       "      <th></th>\n",
       "    </tr>\n",
       "  </thead>\n",
       "  <tbody>\n",
       "    <tr>\n",
       "      <th>(99.999, 144.5]</th>\n",
       "      <td>100.0</td>\n",
       "      <td>140.0</td>\n",
       "      <td>118.566667</td>\n",
       "      <td>118.0</td>\n",
       "      <td>11.595729</td>\n",
       "      <td>30</td>\n",
       "    </tr>\n",
       "    <tr>\n",
       "      <th>(144.5, 180.0]</th>\n",
       "      <td>145.0</td>\n",
       "      <td>180.0</td>\n",
       "      <td>163.625000</td>\n",
       "      <td>160.0</td>\n",
       "      <td>12.947007</td>\n",
       "      <td>40</td>\n",
       "    </tr>\n",
       "    <tr>\n",
       "      <th>(180.0, 229.4]</th>\n",
       "      <td>184.0</td>\n",
       "      <td>228.0</td>\n",
       "      <td>204.000000</td>\n",
       "      <td>200.0</td>\n",
       "      <td>10.223811</td>\n",
       "      <td>20</td>\n",
       "    </tr>\n",
       "    <tr>\n",
       "      <th>(229.4, 278.0]</th>\n",
       "      <td>230.0</td>\n",
       "      <td>275.0</td>\n",
       "      <td>250.533333</td>\n",
       "      <td>250.0</td>\n",
       "      <td>11.607766</td>\n",
       "      <td>30</td>\n",
       "    </tr>\n",
       "    <tr>\n",
       "      <th>(278.0, 353.0]</th>\n",
       "      <td>280.0</td>\n",
       "      <td>350.0</td>\n",
       "      <td>310.266667</td>\n",
       "      <td>300.0</td>\n",
       "      <td>23.090427</td>\n",
       "      <td>30</td>\n",
       "    </tr>\n",
       "    <tr>\n",
       "      <th>(353.0, 500.0]</th>\n",
       "      <td>356.0</td>\n",
       "      <td>500.0</td>\n",
       "      <td>432.222222</td>\n",
       "      <td>405.0</td>\n",
       "      <td>50.747617</td>\n",
       "      <td>36</td>\n",
       "    </tr>\n",
       "    <tr>\n",
       "      <th>(500.0, 670.0]</th>\n",
       "      <td>520.0</td>\n",
       "      <td>670.0</td>\n",
       "      <td>583.240000</td>\n",
       "      <td>600.0</td>\n",
       "      <td>49.321463</td>\n",
       "      <td>25</td>\n",
       "    </tr>\n",
       "    <tr>\n",
       "      <th>(670.0, 1110.0]</th>\n",
       "      <td>700.0</td>\n",
       "      <td>1100.0</td>\n",
       "      <td>905.793103</td>\n",
       "      <td>900.0</td>\n",
       "      <td>137.250912</td>\n",
       "      <td>29</td>\n",
       "    </tr>\n",
       "    <tr>\n",
       "      <th>(1110.0, 2000.0]</th>\n",
       "      <td>1150.0</td>\n",
       "      <td>2000.0</td>\n",
       "      <td>1515.294118</td>\n",
       "      <td>1500.0</td>\n",
       "      <td>289.735881</td>\n",
       "      <td>34</td>\n",
       "    </tr>\n",
       "    <tr>\n",
       "      <th>(2000.0, 5000.0]</th>\n",
       "      <td>2100.0</td>\n",
       "      <td>5000.0</td>\n",
       "      <td>3438.730769</td>\n",
       "      <td>3500.0</td>\n",
       "      <td>982.115006</td>\n",
       "      <td>26</td>\n",
       "    </tr>\n",
       "  </tbody>\n",
       "</table>\n",
       "</div>"
      ],
      "text/plain": [
       "                 emp_firm                                              \n",
       "                      min     max         mean  median         std size\n",
       "emp10bins                                                              \n",
       "(99.999, 144.5]     100.0   140.0   118.566667   118.0   11.595729   30\n",
       "(144.5, 180.0]      145.0   180.0   163.625000   160.0   12.947007   40\n",
       "(180.0, 229.4]      184.0   228.0   204.000000   200.0   10.223811   20\n",
       "(229.4, 278.0]      230.0   275.0   250.533333   250.0   11.607766   30\n",
       "(278.0, 353.0]      280.0   350.0   310.266667   300.0   23.090427   30\n",
       "(353.0, 500.0]      356.0   500.0   432.222222   405.0   50.747617   36\n",
       "(500.0, 670.0]      520.0   670.0   583.240000   600.0   49.321463   25\n",
       "(670.0, 1110.0]     700.0  1100.0   905.793103   900.0  137.250912   29\n",
       "(1110.0, 2000.0]   1150.0  2000.0  1515.294118  1500.0  289.735881   34\n",
       "(2000.0, 5000.0]   2100.0  5000.0  3438.730769  3500.0  982.115006   26"
      ]
     },
     "execution_count": 25,
     "metadata": {},
     "output_type": "execute_result"
    }
   ],
   "source": [
    "# Summary\n",
    "df_summary = (\n",
    "    df.filter([\"emp_firm\", \"emp10bins\"])\n",
    "    .groupby(\"emp10bins\")\n",
    "    .agg([\"min\", \"max\", \"mean\", \"median\", np.std, \"size\"])\n",
    ")\n",
    "df_summary\n"
   ]
  },
  {
   "cell_type": "code",
   "execution_count": 26,
   "metadata": {},
   "outputs": [],
   "source": [
    "# Recode\n",
    "df = df.replace({\"emp10bins\": df_summary[\"emp_firm\"][\"mean\"].to_dict()})\n"
   ]
  },
  {
   "cell_type": "code",
   "execution_count": 27,
   "metadata": {},
   "outputs": [
    {
     "data": {
      "text/html": [
       "<div>\n",
       "<style scoped>\n",
       "    .dataframe tbody tr th:only-of-type {\n",
       "        vertical-align: middle;\n",
       "    }\n",
       "\n",
       "    .dataframe tbody tr th {\n",
       "        vertical-align: top;\n",
       "    }\n",
       "\n",
       "    .dataframe thead tr th {\n",
       "        text-align: left;\n",
       "    }\n",
       "\n",
       "    .dataframe thead tr:last-of-type th {\n",
       "        text-align: right;\n",
       "    }\n",
       "</style>\n",
       "<table border=\"1\" class=\"dataframe\">\n",
       "  <thead>\n",
       "    <tr>\n",
       "      <th></th>\n",
       "      <th colspan=\"6\" halign=\"left\">emp_firm</th>\n",
       "    </tr>\n",
       "    <tr>\n",
       "      <th></th>\n",
       "      <th>min</th>\n",
       "      <th>max</th>\n",
       "      <th>mean</th>\n",
       "      <th>median</th>\n",
       "      <th>std</th>\n",
       "      <th>size</th>\n",
       "    </tr>\n",
       "    <tr>\n",
       "      <th>emp10bins</th>\n",
       "      <th></th>\n",
       "      <th></th>\n",
       "      <th></th>\n",
       "      <th></th>\n",
       "      <th></th>\n",
       "      <th></th>\n",
       "    </tr>\n",
       "  </thead>\n",
       "  <tbody>\n",
       "    <tr>\n",
       "      <th>118.56666666666666</th>\n",
       "      <td>100.0</td>\n",
       "      <td>140.0</td>\n",
       "      <td>118.566667</td>\n",
       "      <td>118.0</td>\n",
       "      <td>11.595729</td>\n",
       "      <td>30</td>\n",
       "    </tr>\n",
       "    <tr>\n",
       "      <th>163.625</th>\n",
       "      <td>145.0</td>\n",
       "      <td>180.0</td>\n",
       "      <td>163.625000</td>\n",
       "      <td>160.0</td>\n",
       "      <td>12.947007</td>\n",
       "      <td>40</td>\n",
       "    </tr>\n",
       "    <tr>\n",
       "      <th>204.0</th>\n",
       "      <td>184.0</td>\n",
       "      <td>228.0</td>\n",
       "      <td>204.000000</td>\n",
       "      <td>200.0</td>\n",
       "      <td>10.223811</td>\n",
       "      <td>20</td>\n",
       "    </tr>\n",
       "    <tr>\n",
       "      <th>250.53333333333333</th>\n",
       "      <td>230.0</td>\n",
       "      <td>275.0</td>\n",
       "      <td>250.533333</td>\n",
       "      <td>250.0</td>\n",
       "      <td>11.607766</td>\n",
       "      <td>30</td>\n",
       "    </tr>\n",
       "    <tr>\n",
       "      <th>310.26666666666665</th>\n",
       "      <td>280.0</td>\n",
       "      <td>350.0</td>\n",
       "      <td>310.266667</td>\n",
       "      <td>300.0</td>\n",
       "      <td>23.090427</td>\n",
       "      <td>30</td>\n",
       "    </tr>\n",
       "    <tr>\n",
       "      <th>432.22222222222223</th>\n",
       "      <td>356.0</td>\n",
       "      <td>500.0</td>\n",
       "      <td>432.222222</td>\n",
       "      <td>405.0</td>\n",
       "      <td>50.747617</td>\n",
       "      <td>36</td>\n",
       "    </tr>\n",
       "    <tr>\n",
       "      <th>583.24</th>\n",
       "      <td>520.0</td>\n",
       "      <td>670.0</td>\n",
       "      <td>583.240000</td>\n",
       "      <td>600.0</td>\n",
       "      <td>49.321463</td>\n",
       "      <td>25</td>\n",
       "    </tr>\n",
       "    <tr>\n",
       "      <th>905.7931034482758</th>\n",
       "      <td>700.0</td>\n",
       "      <td>1100.0</td>\n",
       "      <td>905.793103</td>\n",
       "      <td>900.0</td>\n",
       "      <td>137.250912</td>\n",
       "      <td>29</td>\n",
       "    </tr>\n",
       "    <tr>\n",
       "      <th>1515.2941176470588</th>\n",
       "      <td>1150.0</td>\n",
       "      <td>2000.0</td>\n",
       "      <td>1515.294118</td>\n",
       "      <td>1500.0</td>\n",
       "      <td>289.735881</td>\n",
       "      <td>34</td>\n",
       "    </tr>\n",
       "    <tr>\n",
       "      <th>3438.730769230769</th>\n",
       "      <td>2100.0</td>\n",
       "      <td>5000.0</td>\n",
       "      <td>3438.730769</td>\n",
       "      <td>3500.0</td>\n",
       "      <td>982.115006</td>\n",
       "      <td>26</td>\n",
       "    </tr>\n",
       "  </tbody>\n",
       "</table>\n",
       "</div>"
      ],
      "text/plain": [
       "                   emp_firm                                              \n",
       "                        min     max         mean  median         std size\n",
       "emp10bins                                                                \n",
       "118.56666666666666    100.0   140.0   118.566667   118.0   11.595729   30\n",
       "163.625               145.0   180.0   163.625000   160.0   12.947007   40\n",
       "204.0                 184.0   228.0   204.000000   200.0   10.223811   20\n",
       "250.53333333333333    230.0   275.0   250.533333   250.0   11.607766   30\n",
       "310.26666666666665    280.0   350.0   310.266667   300.0   23.090427   30\n",
       "432.22222222222223    356.0   500.0   432.222222   405.0   50.747617   36\n",
       "583.24                520.0   670.0   583.240000   600.0   49.321463   25\n",
       "905.7931034482758     700.0  1100.0   905.793103   900.0  137.250912   29\n",
       "1515.2941176470588   1150.0  2000.0  1515.294118  1500.0  289.735881   34\n",
       "3438.730769230769    2100.0  5000.0  3438.730769  3500.0  982.115006   26"
      ]
     },
     "execution_count": 27,
     "metadata": {},
     "output_type": "execute_result"
    }
   ],
   "source": [
    "df.filter([\"emp_firm\", \"emp10bins\"]).groupby(\"emp10bins\").agg(\n",
    "    [\"min\", \"max\", \"mean\", \"median\", np.std, \"size\"]\n",
    ")\n"
   ]
  },
  {
   "cell_type": "code",
   "execution_count": 28,
   "metadata": {},
   "outputs": [
    {
     "data": {
      "text/html": [
       "<div>\n",
       "<style scoped>\n",
       "    .dataframe tbody tr th:only-of-type {\n",
       "        vertical-align: middle;\n",
       "    }\n",
       "\n",
       "    .dataframe tbody tr th {\n",
       "        vertical-align: top;\n",
       "    }\n",
       "\n",
       "    .dataframe thead th {\n",
       "        text-align: right;\n",
       "    }\n",
       "</style>\n",
       "<table border=\"1\" class=\"dataframe\">\n",
       "  <thead>\n",
       "    <tr style=\"text-align: right;\">\n",
       "      <th></th>\n",
       "      <th>emp10bins</th>\n",
       "      <th>management_emp10bins</th>\n",
       "    </tr>\n",
       "  </thead>\n",
       "  <tbody>\n",
       "    <tr>\n",
       "      <th>0</th>\n",
       "      <td>118</td>\n",
       "      <td>2.588889</td>\n",
       "    </tr>\n",
       "    <tr>\n",
       "      <th>1</th>\n",
       "      <td>163</td>\n",
       "      <td>2.736111</td>\n",
       "    </tr>\n",
       "    <tr>\n",
       "      <th>2</th>\n",
       "      <td>204</td>\n",
       "      <td>2.727778</td>\n",
       "    </tr>\n",
       "    <tr>\n",
       "      <th>3</th>\n",
       "      <td>250</td>\n",
       "      <td>2.968519</td>\n",
       "    </tr>\n",
       "    <tr>\n",
       "      <th>4</th>\n",
       "      <td>310</td>\n",
       "      <td>2.953704</td>\n",
       "    </tr>\n",
       "    <tr>\n",
       "      <th>5</th>\n",
       "      <td>432</td>\n",
       "      <td>2.956790</td>\n",
       "    </tr>\n",
       "    <tr>\n",
       "      <th>6</th>\n",
       "      <td>583</td>\n",
       "      <td>3.000000</td>\n",
       "    </tr>\n",
       "    <tr>\n",
       "      <th>7</th>\n",
       "      <td>905</td>\n",
       "      <td>2.994253</td>\n",
       "    </tr>\n",
       "    <tr>\n",
       "      <th>8</th>\n",
       "      <td>1515</td>\n",
       "      <td>3.096405</td>\n",
       "    </tr>\n",
       "    <tr>\n",
       "      <th>9</th>\n",
       "      <td>3438</td>\n",
       "      <td>3.410256</td>\n",
       "    </tr>\n",
       "  </tbody>\n",
       "</table>\n",
       "</div>"
      ],
      "text/plain": [
       "   emp10bins  management_emp10bins\n",
       "0        118              2.588889\n",
       "1        163              2.736111\n",
       "2        204              2.727778\n",
       "3        250              2.968519\n",
       "4        310              2.953704\n",
       "5        432              2.956790\n",
       "6        583              3.000000\n",
       "7        905              2.994253\n",
       "8       1515              3.096405\n",
       "9       3438              3.410256"
      ]
     },
     "execution_count": 28,
     "metadata": {},
     "output_type": "execute_result"
    }
   ],
   "source": [
    "# Generate variables by mean\n",
    "df1 = (\n",
    "    df.groupby(\"emp10bins\")\n",
    "    .agg(management_emp10bins=(\"management\", \"mean\"))\n",
    "    .reset_index()\n",
    "    .assign(emp10bins = lambda x: x[\"emp10bins\"].astype(int))\n",
    ")\n",
    "df1\n"
   ]
  },
  {
   "cell_type": "markdown",
   "metadata": {},
   "source": [
    "(b) Ten bins of employment"
   ]
  },
  {
   "cell_type": "code",
   "execution_count": 29,
   "metadata": {},
   "outputs": [
    {
     "data": {
      "image/png": "[encoded data removed]",
      "text/plain": [
       "<Figure size 640x480 with 1 Axes>"
      ]
     },
     "metadata": {},
     "output_type": "display_data"
    },
    {
     "data": {
      "text/plain": [
       "<ggplot: (380354286)>"
      ]
     },
     "execution_count": 29,
     "metadata": {},
     "output_type": "execute_result"
    }
   ],
   "source": [
    "(\n",
    "    ggplot(df1, aes(x=\"emp10bins\", y=\"management_emp10bins\"))\n",
    "    + geom_point(size=2, color=color[2], fill=color[0], alpha=0.8, na_rm=True)\n",
    "    + scale_y_continuous(\n",
    "        expand=(0.01, 0.01), limits=(2.5, 3.5), breaks=seq(2.5, 3.6, by=0.25)\n",
    "    )\n",
    "    + scale_x_continuous(\n",
    "        expand=(0.01, 0.01), limits=(0, 3500), breaks=seq(0, 3501, by=500)\n",
    "    )\n",
    "    + labs(x=\"Firm size (employment), 10 bins\", y=\"Management score\")\n",
    "    + theme_bw()\n",
    ")\n"
   ]
  },
  {
   "cell_type": "markdown",
   "metadata": {},
   "source": [
    "### Figure 4.5 The joint distribution of the management quality score and firm size"
   ]
  },
  {
   "cell_type": "markdown",
   "metadata": {},
   "source": [
    "(a) By employment"
   ]
  },
  {
   "cell_type": "code",
   "execution_count": 30,
   "metadata": {},
   "outputs": [
    {
     "data": {
      "image/png": "[encoded data removed]",
      "text/plain": [
       "<Figure size 640x480 with 1 Axes>"
      ]
     },
     "metadata": {},
     "output_type": "display_data"
    },
    {
     "data": {
      "text/plain": [
       "<ggplot: (380399020)>"
      ]
     },
     "execution_count": 30,
     "metadata": {},
     "output_type": "execute_result"
    }
   ],
   "source": [
    "(\n",
    "    ggplot(df, aes(x=\"emp_firm\", y=\"management\"))\n",
    "    + geom_point(color=color[0], size=1.5, alpha=0.8, show_legend=False, na_rm=True)\n",
    "    + scale_x_continuous(\n",
    "        expand=(0.01, 0.01), limits=(0, 5000), breaks=seq(0, 5001, by=1000)\n",
    "    )\n",
    "    + scale_y_continuous(expand=(0.01, 0.01), limits=(1, 5), breaks=seq(1, 6, 1))\n",
    "    + labs(x=\"Firm size (employment)\", y=\"Management score\")\n",
    "    + theme_bw()\n",
    ")\n"
   ]
  },
  {
   "cell_type": "code",
   "execution_count": 31,
   "metadata": {},
   "outputs": [],
   "source": [
    "df[\"lnemp\"] = np.log(df[\"emp_firm\"])\n"
   ]
  },
  {
   "cell_type": "markdown",
   "metadata": {},
   "source": [
    "(b) By log employment"
   ]
  },
  {
   "cell_type": "code",
   "execution_count": 32,
   "metadata": {},
   "outputs": [
    {
     "data": {
      "image/png": "[encoded data removed]",
      "text/plain": [
       "<Figure size 640x480 with 1 Axes>"
      ]
     },
     "metadata": {},
     "output_type": "display_data"
    },
    {
     "data": {
      "text/plain": [
       "<ggplot: (380438200)>"
      ]
     },
     "execution_count": 32,
     "metadata": {},
     "output_type": "execute_result"
    }
   ],
   "source": [
    "(\n",
    "    ggplot(df, aes(x=\"lnemp\", y=\"management\"))\n",
    "    + geom_point(color=color[0], size=1.5, alpha=0.8, show_legend=False, na_rm=True)\n",
    "    + scale_x_continuous(expand=(0.01, 0.01), limits=(4, 9), breaks=seq(4, 10, by=1))\n",
    "    + scale_y_continuous(expand=(0.01, 0.01), limits=(1, 5), breaks=seq(1, 6, 1))\n",
    "    + labs(x=\"Firm size (ln(employment))\", y=\"Management score\")\n",
    "    + theme_bw()\n",
    ")\n"
   ]
  },
  {
   "cell_type": "markdown",
   "metadata": {},
   "source": [
    "### Figure 4.6 Conditional summary statistics of the management score by bins of firm size"
   ]
  },
  {
   "cell_type": "code",
   "execution_count": 33,
   "metadata": {},
   "outputs": [],
   "source": [
    "df = df.replace({\"emp3bins\": {150: \"Small\", 600: \"Medium\", 3000: \"Large\"}})\n"
   ]
  },
  {
   "cell_type": "markdown",
   "metadata": {},
   "source": [
    "Box plots"
   ]
  },
  {
   "cell_type": "code",
   "execution_count": 34,
   "metadata": {},
   "outputs": [
    {
     "data": {
      "image/png": "[encoded data removed]",
      "text/plain": [
       "<Figure size 640x480 with 1 Axes>"
      ]
     },
     "metadata": {},
     "output_type": "display_data"
    },
    {
     "data": {
      "text/plain": [
       "<ggplot: (380407071)>"
      ]
     },
     "execution_count": 34,
     "metadata": {},
     "output_type": "execute_result"
    }
   ],
   "source": [
    "(\n",
    "    ggplot(\n",
    "        df,\n",
    "        aes(\n",
    "            x=\"pd.Categorical(df['emp3bins'], categories=sorted(set(df['emp3bins']), reverse=True))\",\n",
    "            y=\"management\",\n",
    "            group=\"emp3bins\",\n",
    "        ),\n",
    "    )\n",
    "    + stat_boxplot(\n",
    "        geom=\"errorbar\",\n",
    "        width=0.5,\n",
    "        color=(color[0], color[1], color[2]),\n",
    "        size=0.5,\n",
    "        na_rm=True,\n",
    "    )\n",
    "    + geom_boxplot(\n",
    "        color=(color[0], color[1], color[2]),\n",
    "        #fill=(color[1], color[0], color[2]),\n",
    "        size=0.5,\n",
    "        width=0.5,\n",
    "        #alpha=0.3,\n",
    "        na_rm=True,\n",
    "    )\n",
    "    + labs(x=\"Firm size (employment), 3 bins\", y=\"Management score\")\n",
    "    + scale_y_continuous(expand=(0.01, 0.01), limits=(1, 5), breaks=seq(1, 5, 1))\n",
    "    + theme_bw()\n",
    ")\n"
   ]
  },
  {
   "cell_type": "markdown",
   "metadata": {},
   "source": [
    "Violin plot"
   ]
  },
  {
   "cell_type": "code",
   "execution_count": 35,
   "metadata": {},
   "outputs": [
    {
     "data": {
      "image/png": "[encoded data removed]",
      "text/plain": [
       "<Figure size 640x480 with 1 Axes>"
      ]
     },
     "metadata": {},
     "output_type": "display_data"
    },
    {
     "data": {
      "text/plain": [
       "<ggplot: (373433176)>"
      ]
     },
     "execution_count": 35,
     "metadata": {},
     "output_type": "execute_result"
    }
   ],
   "source": [
    "(\n",
    "    ggplot(\n",
    "        df,\n",
    "        aes(\n",
    "            x=\"pd.Categorical(df['emp3bins'], categories=sorted(set(df['emp3bins']), reverse=True))\",\n",
    "            y=\"management\",\n",
    "            color=\"emp3bins\",\n",
    "            group=\"emp3bins\",\n",
    "        ),\n",
    "    )\n",
    "    + geom_violin(size=0.3, alpha=0.5, trim=False, show_legend=False, na_rm=True)\n",
    "    + geom_boxplot(size=0.5, width=0.2, alpha=0.3, na_rm=True)\n",
    "    + labs(x=\"Firm size (employment), 3 bins\", y=\"Management score\")\n",
    "    + scale_color_manual(values=(color[0], color[1], color[2]))\n",
    "    + scale_y_continuous(expand=(0.01, 0.01), limits=(0, 6), breaks=seq(0, 6, 1))\n",
    "    + guides(fill=False, color=False)\n",
    "    + theme_bw()\n",
    ")"
   ]
  },
  {
   "cell_type": "code",
   "execution_count": 36,
   "metadata": {},
   "outputs": [
    {
     "data": {
      "text/plain": [
       "0.30199539572479067"
      ]
     },
     "execution_count": 36,
     "metadata": {},
     "output_type": "execute_result"
    }
   ],
   "source": [
    "# Correlation\n",
    "df[\"management\"].corr(df[\"emp_firm\"])\n"
   ]
  },
  {
   "cell_type": "code",
   "execution_count": 37,
   "metadata": {},
   "outputs": [],
   "source": [
    "# by industry\n",
    "df[\"industry_broad\"] = pd.np.nan\n",
    "df.loc[df.sic <= 21, \"industry_broad\"] = \"food_drinks_tobacco\"\n",
    "df.loc[\n",
    "    ((df[\"sic\"] >= 22) & (df[\"sic\"] <= 23)) | (df[\"sic\"] == 31), \"industry_broad\"\n",
    "] = \"textile_apparel_leather_etc\"\n",
    "df.loc[(df.sic >= 24) & (df.sic <= 27), \"industry_broad\"] = \"wood_furniture_paper\"\n",
    "df.loc[(df.sic >= 28) & (df.sic <= 30), \"industry_broad\"] = \"chemicals_etc\"\n",
    "df.loc[(df.sic >= 32) & (df.sic < 35), \"industry_broad\"] = \"materials_metals\"\n",
    "df.loc[(df.sic >= 35) & (df.sic < 37), \"industry_broad\"] = \"electronics\"\n",
    "df.loc[df.sic == 37, \"industry_broad\"] = \"auto\"\n",
    "df.loc[df.sic >= 38, \"industry_broad\"] = \"other\"\n"
   ]
  },
  {
   "cell_type": "code",
   "execution_count": 38,
   "metadata": {},
   "outputs": [
    {
     "data": {
      "text/plain": [
       "chemicals_etc                  69\n",
       "materials_metals               50\n",
       "textile_apparel_leather_etc    38\n",
       "wood_furniture_paper           37\n",
       "electronics                    36\n",
       "food_drinks_tobacco            34\n",
       "auto                           26\n",
       "other                          10\n",
       "Name: industry_broad, dtype: int64"
      ]
     },
     "execution_count": 38,
     "metadata": {},
     "output_type": "execute_result"
    }
   ],
   "source": [
    "df.industry_broad.value_counts()\n"
   ]
  },
  {
   "cell_type": "code",
   "execution_count": 39,
   "metadata": {},
   "outputs": [
    {
     "data": {
      "text/plain": [
       "industry_broad                         \n",
       "auto                         management    0.502322\n",
       "chemicals_etc                management    0.053380\n",
       "electronics                  management    0.282000\n",
       "food_drinks_tobacco          management    0.052144\n",
       "materials_metals             management    0.320921\n",
       "other                        management    0.628398\n",
       "textile_apparel_leather_etc  management    0.360877\n",
       "wood_furniture_paper         management    0.294981\n",
       "Name: emp_firm, dtype: float64"
      ]
     },
     "execution_count": 39,
     "metadata": {},
     "output_type": "execute_result"
    }
   ],
   "source": [
    "# Correlation\n",
    "df.groupby(\"industry_broad\")[\"management\", \"emp_firm\"].corr().iloc[0::2, -1]\n"
   ]
  },
  {
   "cell_type": "code",
   "execution_count": 40,
   "metadata": {},
   "outputs": [
    {
     "data": {
      "text/html": [
       "<div>\n",
       "<style scoped>\n",
       "    .dataframe tbody tr th:only-of-type {\n",
       "        vertical-align: middle;\n",
       "    }\n",
       "\n",
       "    .dataframe tbody tr th {\n",
       "        vertical-align: top;\n",
       "    }\n",
       "\n",
       "    .dataframe thead th {\n",
       "        text-align: right;\n",
       "    }\n",
       "</style>\n",
       "<table border=\"1\" class=\"dataframe\">\n",
       "  <thead>\n",
       "    <tr style=\"text-align: right;\">\n",
       "      <th></th>\n",
       "      <th>Min</th>\n",
       "      <th>Max</th>\n",
       "      <th>SD</th>\n",
       "      <th>Median</th>\n",
       "      <th>n</th>\n",
       "    </tr>\n",
       "    <tr>\n",
       "      <th>industry_broad</th>\n",
       "      <th></th>\n",
       "      <th></th>\n",
       "      <th></th>\n",
       "      <th></th>\n",
       "      <th></th>\n",
       "    </tr>\n",
       "  </thead>\n",
       "  <tbody>\n",
       "    <tr>\n",
       "      <th>auto</th>\n",
       "      <td>2.277778</td>\n",
       "      <td>4.277778</td>\n",
       "      <td>0.553367</td>\n",
       "      <td>3.194445</td>\n",
       "      <td>26</td>\n",
       "    </tr>\n",
       "    <tr>\n",
       "      <th>chemicals_etc</th>\n",
       "      <td>1.277778</td>\n",
       "      <td>4.111111</td>\n",
       "      <td>0.550176</td>\n",
       "      <td>3.000000</td>\n",
       "      <td>69</td>\n",
       "    </tr>\n",
       "    <tr>\n",
       "      <th>electronics</th>\n",
       "      <td>1.500000</td>\n",
       "      <td>4.500000</td>\n",
       "      <td>0.693034</td>\n",
       "      <td>3.111111</td>\n",
       "      <td>36</td>\n",
       "    </tr>\n",
       "    <tr>\n",
       "      <th>food_drinks_tobacco</th>\n",
       "      <td>1.888889</td>\n",
       "      <td>4.222222</td>\n",
       "      <td>0.525753</td>\n",
       "      <td>2.833333</td>\n",
       "      <td>34</td>\n",
       "    </tr>\n",
       "    <tr>\n",
       "      <th>materials_metals</th>\n",
       "      <td>1.555556</td>\n",
       "      <td>4.277778</td>\n",
       "      <td>0.564557</td>\n",
       "      <td>2.861111</td>\n",
       "      <td>50</td>\n",
       "    </tr>\n",
       "    <tr>\n",
       "      <th>other</th>\n",
       "      <td>1.777778</td>\n",
       "      <td>4.611111</td>\n",
       "      <td>0.844087</td>\n",
       "      <td>3.555556</td>\n",
       "      <td>10</td>\n",
       "    </tr>\n",
       "    <tr>\n",
       "      <th>textile_apparel_leather_etc</th>\n",
       "      <td>1.777778</td>\n",
       "      <td>4.000000</td>\n",
       "      <td>0.567371</td>\n",
       "      <td>2.777778</td>\n",
       "      <td>38</td>\n",
       "    </tr>\n",
       "    <tr>\n",
       "      <th>wood_furniture_paper</th>\n",
       "      <td>1.722222</td>\n",
       "      <td>3.555556</td>\n",
       "      <td>0.555556</td>\n",
       "      <td>2.833333</td>\n",
       "      <td>37</td>\n",
       "    </tr>\n",
       "  </tbody>\n",
       "</table>\n",
       "</div>"
      ],
      "text/plain": [
       "                                  Min       Max        SD    Median   n\n",
       "industry_broad                                                         \n",
       "auto                         2.277778  4.277778  0.553367  3.194445  26\n",
       "chemicals_etc                1.277778  4.111111  0.550176  3.000000  69\n",
       "electronics                  1.500000  4.500000  0.693034  3.111111  36\n",
       "food_drinks_tobacco          1.888889  4.222222  0.525753  2.833333  34\n",
       "materials_metals             1.555556  4.277778  0.564557  2.861111  50\n",
       "other                        1.777778  4.611111  0.844087  3.555556  10\n",
       "textile_apparel_leather_etc  1.777778  4.000000  0.567371  2.777778  38\n",
       "wood_furniture_paper         1.722222  3.555556  0.555556  2.833333  37"
      ]
     },
     "execution_count": 40,
     "metadata": {},
     "output_type": "execute_result"
    }
   ],
   "source": [
    "df.filter([\"management\", \"industry_broad\"]).loc[\n",
    "    lambda x: ~x[\"industry_broad\"].isnull()\n",
    "].groupby(\"industry_broad\").agg(\n",
    "    Min=(\"management\", min),\n",
    "    Max=(\"management\", max),\n",
    "    SD=(\"management\", np.std),\n",
    "    Median=(\"management\", \"median\"),\n",
    "    n=(\"management\", \"size\"),\n",
    ")\n"
   ]
  },
  {
   "cell_type": "code",
   "execution_count": 41,
   "metadata": {
    "scrolled": false
   },
   "outputs": [
    {
     "data": {
      "text/html": [
       "<div>\n",
       "<style scoped>\n",
       "    .dataframe tbody tr th:only-of-type {\n",
       "        vertical-align: middle;\n",
       "    }\n",
       "\n",
       "    .dataframe tbody tr th {\n",
       "        vertical-align: top;\n",
       "    }\n",
       "\n",
       "    .dataframe thead th {\n",
       "        text-align: right;\n",
       "    }\n",
       "</style>\n",
       "<table border=\"1\" class=\"dataframe\">\n",
       "  <thead>\n",
       "    <tr style=\"text-align: right;\">\n",
       "      <th></th>\n",
       "      <th>Min</th>\n",
       "      <th>Max</th>\n",
       "      <th>SD</th>\n",
       "      <th>Median</th>\n",
       "      <th>n</th>\n",
       "    </tr>\n",
       "    <tr>\n",
       "      <th>industry_broad</th>\n",
       "      <th></th>\n",
       "      <th></th>\n",
       "      <th></th>\n",
       "      <th></th>\n",
       "      <th></th>\n",
       "    </tr>\n",
       "  </thead>\n",
       "  <tbody>\n",
       "    <tr>\n",
       "      <th>auto</th>\n",
       "      <td>130.0</td>\n",
       "      <td>5000.0</td>\n",
       "      <td>1625.103843</td>\n",
       "      <td>500.0</td>\n",
       "      <td>26</td>\n",
       "    </tr>\n",
       "    <tr>\n",
       "      <th>chemicals_etc</th>\n",
       "      <td>116.0</td>\n",
       "      <td>2000.0</td>\n",
       "      <td>465.980775</td>\n",
       "      <td>356.0</td>\n",
       "      <td>69</td>\n",
       "    </tr>\n",
       "    <tr>\n",
       "      <th>electronics</th>\n",
       "      <td>115.0</td>\n",
       "      <td>5000.0</td>\n",
       "      <td>1126.786821</td>\n",
       "      <td>295.0</td>\n",
       "      <td>36</td>\n",
       "    </tr>\n",
       "    <tr>\n",
       "      <th>food_drinks_tobacco</th>\n",
       "      <td>120.0</td>\n",
       "      <td>2400.0</td>\n",
       "      <td>665.626102</td>\n",
       "      <td>471.0</td>\n",
       "      <td>34</td>\n",
       "    </tr>\n",
       "    <tr>\n",
       "      <th>materials_metals</th>\n",
       "      <td>100.0</td>\n",
       "      <td>5000.0</td>\n",
       "      <td>1151.436836</td>\n",
       "      <td>335.0</td>\n",
       "      <td>50</td>\n",
       "    </tr>\n",
       "    <tr>\n",
       "      <th>other</th>\n",
       "      <td>200.0</td>\n",
       "      <td>2900.0</td>\n",
       "      <td>867.247043</td>\n",
       "      <td>350.0</td>\n",
       "      <td>10</td>\n",
       "    </tr>\n",
       "    <tr>\n",
       "      <th>textile_apparel_leather_etc</th>\n",
       "      <td>110.0</td>\n",
       "      <td>4000.0</td>\n",
       "      <td>899.413044</td>\n",
       "      <td>350.0</td>\n",
       "      <td>38</td>\n",
       "    </tr>\n",
       "    <tr>\n",
       "      <th>wood_furniture_paper</th>\n",
       "      <td>100.0</td>\n",
       "      <td>3500.0</td>\n",
       "      <td>855.610261</td>\n",
       "      <td>300.0</td>\n",
       "      <td>37</td>\n",
       "    </tr>\n",
       "  </tbody>\n",
       "</table>\n",
       "</div>"
      ],
      "text/plain": [
       "                               Min     Max           SD  Median   n\n",
       "industry_broad                                                     \n",
       "auto                         130.0  5000.0  1625.103843   500.0  26\n",
       "chemicals_etc                116.0  2000.0   465.980775   356.0  69\n",
       "electronics                  115.0  5000.0  1126.786821   295.0  36\n",
       "food_drinks_tobacco          120.0  2400.0   665.626102   471.0  34\n",
       "materials_metals             100.0  5000.0  1151.436836   335.0  50\n",
       "other                        200.0  2900.0   867.247043   350.0  10\n",
       "textile_apparel_leather_etc  110.0  4000.0   899.413044   350.0  38\n",
       "wood_furniture_paper         100.0  3500.0   855.610261   300.0  37"
      ]
     },
     "execution_count": 41,
     "metadata": {},
     "output_type": "execute_result"
    }
   ],
   "source": [
    "df.filter([\"emp_firm\", \"industry_broad\"]).loc[\n",
    "    lambda x: ~x[\"industry_broad\"].isnull()\n",
    "].groupby(\"industry_broad\").agg(\n",
    "    Min=(\"emp_firm\", min),\n",
    "    Max=(\"emp_firm\", max),\n",
    "    SD=(\"emp_firm\", np.std),\n",
    "    Median=(\"emp_firm\", \"median\"),\n",
    "    n=(\"emp_firm\", \"size\"),\n",
    ")\n"
   ]
  },
  {
   "cell_type": "code",
   "execution_count": 42,
   "metadata": {},
   "outputs": [],
   "source": [
    "# Correlation\n",
    "cor = (\n",
    "    pd.DataFrame(\n",
    "        df.groupby(\"industry_broad\")[\"management\", \"emp_firm\"].corr().iloc[0::2, -1]\n",
    "    )\n",
    "    .reset_index()\n",
    "    .drop([\"level_1\"], axis=1)\n",
    ")\n",
    "cor.columns = [\"industry_broad\", \"COR\"]\n",
    "cor = cor.set_index(\"industry_broad\")\n"
   ]
  },
  {
   "cell_type": "code",
   "execution_count": 43,
   "metadata": {},
   "outputs": [],
   "source": [
    "table41 = (\n",
    "    df.filter([\"emp_firm\", \"industry_broad\", \"management\"])\n",
    "    .groupby(\"industry_broad\")\n",
    "    .agg(Mean=(\"management\", \"mean\"), Obs=(\"management\", \"size\"))\n",
    ")\n",
    "table41[\"cor\"] = cor.COR\n"
   ]
  },
  {
   "cell_type": "code",
   "execution_count": 44,
   "metadata": {},
   "outputs": [
    {
     "data": {
      "text/html": [
       "<div>\n",
       "<style scoped>\n",
       "    .dataframe tbody tr th:only-of-type {\n",
       "        vertical-align: middle;\n",
       "    }\n",
       "\n",
       "    .dataframe tbody tr th {\n",
       "        vertical-align: top;\n",
       "    }\n",
       "\n",
       "    .dataframe thead th {\n",
       "        text-align: right;\n",
       "    }\n",
       "</style>\n",
       "<table border=\"1\" class=\"dataframe\">\n",
       "  <thead>\n",
       "    <tr style=\"text-align: right;\">\n",
       "      <th></th>\n",
       "      <th>Mean</th>\n",
       "      <th>Obs</th>\n",
       "      <th>cor</th>\n",
       "    </tr>\n",
       "  </thead>\n",
       "  <tbody>\n",
       "    <tr>\n",
       "      <th>Auto</th>\n",
       "      <td>3.25</td>\n",
       "      <td>26</td>\n",
       "      <td>0.50</td>\n",
       "    </tr>\n",
       "    <tr>\n",
       "      <th>Chemicals</th>\n",
       "      <td>2.97</td>\n",
       "      <td>69</td>\n",
       "      <td>0.05</td>\n",
       "    </tr>\n",
       "    <tr>\n",
       "      <th>Machinery, equipment, electronics</th>\n",
       "      <td>3.15</td>\n",
       "      <td>36</td>\n",
       "      <td>0.28</td>\n",
       "    </tr>\n",
       "    <tr>\n",
       "      <th>Food, drinks, tobacco</th>\n",
       "      <td>2.87</td>\n",
       "      <td>34</td>\n",
       "      <td>0.05</td>\n",
       "    </tr>\n",
       "    <tr>\n",
       "      <th>Materials, metals</th>\n",
       "      <td>2.85</td>\n",
       "      <td>50</td>\n",
       "      <td>0.32</td>\n",
       "    </tr>\n",
       "    <tr>\n",
       "      <th>Textile, apparel, leather</th>\n",
       "      <td>3.29</td>\n",
       "      <td>10</td>\n",
       "      <td>0.63</td>\n",
       "    </tr>\n",
       "    <tr>\n",
       "      <th>Wood, furniture, paper</th>\n",
       "      <td>2.77</td>\n",
       "      <td>38</td>\n",
       "      <td>0.36</td>\n",
       "    </tr>\n",
       "    <tr>\n",
       "      <th>Other</th>\n",
       "      <td>2.72</td>\n",
       "      <td>37</td>\n",
       "      <td>0.29</td>\n",
       "    </tr>\n",
       "  </tbody>\n",
       "</table>\n",
       "</div>"
      ],
      "text/plain": [
       "                                   Mean  Obs   cor\n",
       "Auto                               3.25   26  0.50\n",
       "Chemicals                          2.97   69  0.05\n",
       "Machinery, equipment, electronics  3.15   36  0.28\n",
       "Food, drinks, tobacco              2.87   34  0.05\n",
       "Materials, metals                  2.85   50  0.32\n",
       "Textile, apparel, leather          3.29   10  0.63\n",
       "Wood, furniture, paper             2.77   38  0.36\n",
       "Other                              2.72   37  0.29"
      ]
     },
     "execution_count": 44,
     "metadata": {},
     "output_type": "execute_result"
    }
   ],
   "source": [
    "table41.index = [\n",
    "    \"Auto\",\n",
    "    \"Chemicals\",\n",
    "    \"Machinery, equipment, electronics\",\n",
    "    \"Food, drinks, tobacco\",\n",
    "    \"Materials, metals\",\n",
    "    \"Textile, apparel, leather\",\n",
    "    \"Wood, furniture, paper\",\n",
    "    \"Other\",\n",
    "]\n",
    "table41.round(2)\n"
   ]
  },
  {
   "cell_type": "code",
   "execution_count": 45,
   "metadata": {},
   "outputs": [],
   "source": [
    "last_row = (\n",
    "    table41.groupby(lambda _: True)\n",
    "    .agg(Mean=(\"Mean\", \"mean\"), Obs=(\"Obs\", \"sum\"), cor=(\"cor\", \"mean\"))\n",
    "    .reset_index(drop=True)\n",
    ")\n",
    "last_row.index = [\"All\"]\n"
   ]
  },
  {
   "cell_type": "code",
   "execution_count": 46,
   "metadata": {},
   "outputs": [],
   "source": [
    "table41 = table41.append(last_row)\n"
   ]
  },
  {
   "cell_type": "code",
   "execution_count": 47,
   "metadata": {},
   "outputs": [],
   "source": [
    "table41 = table41.loc[:, [\"cor\", \"Mean\", \"Obs\"]].reset_index()\n",
    "table41.columns = [\n",
    "    \"Industry\",\n",
    "    \"Management - employment correlation\",\n",
    "    \"Management score\",\n",
    "    \"Observations\",\n",
    "]\n"
   ]
  },
  {
   "cell_type": "code",
   "execution_count": 48,
   "metadata": {
    "scrolled": false
   },
   "outputs": [
    {
     "data": {
      "text/html": [
       "<div>\n",
       "<style scoped>\n",
       "    .dataframe tbody tr th:only-of-type {\n",
       "        vertical-align: middle;\n",
       "    }\n",
       "\n",
       "    .dataframe tbody tr th {\n",
       "        vertical-align: top;\n",
       "    }\n",
       "\n",
       "    .dataframe thead th {\n",
       "        text-align: right;\n",
       "    }\n",
       "</style>\n",
       "<table border=\"1\" class=\"dataframe\">\n",
       "  <thead>\n",
       "    <tr style=\"text-align: right;\">\n",
       "      <th></th>\n",
       "      <th>Industry</th>\n",
       "      <th>Management - employment correlation</th>\n",
       "      <th>Management score</th>\n",
       "      <th>Observations</th>\n",
       "    </tr>\n",
       "  </thead>\n",
       "  <tbody>\n",
       "    <tr>\n",
       "      <th>0</th>\n",
       "      <td>Auto</td>\n",
       "      <td>0.50</td>\n",
       "      <td>3.25</td>\n",
       "      <td>26</td>\n",
       "    </tr>\n",
       "    <tr>\n",
       "      <th>1</th>\n",
       "      <td>Chemicals</td>\n",
       "      <td>0.05</td>\n",
       "      <td>2.97</td>\n",
       "      <td>69</td>\n",
       "    </tr>\n",
       "    <tr>\n",
       "      <th>2</th>\n",
       "      <td>Machinery, equipment, electronics</td>\n",
       "      <td>0.28</td>\n",
       "      <td>3.15</td>\n",
       "      <td>36</td>\n",
       "    </tr>\n",
       "    <tr>\n",
       "      <th>3</th>\n",
       "      <td>Food, drinks, tobacco</td>\n",
       "      <td>0.05</td>\n",
       "      <td>2.87</td>\n",
       "      <td>34</td>\n",
       "    </tr>\n",
       "    <tr>\n",
       "      <th>4</th>\n",
       "      <td>Materials, metals</td>\n",
       "      <td>0.32</td>\n",
       "      <td>2.85</td>\n",
       "      <td>50</td>\n",
       "    </tr>\n",
       "    <tr>\n",
       "      <th>5</th>\n",
       "      <td>Textile, apparel, leather</td>\n",
       "      <td>0.63</td>\n",
       "      <td>3.29</td>\n",
       "      <td>10</td>\n",
       "    </tr>\n",
       "    <tr>\n",
       "      <th>6</th>\n",
       "      <td>Wood, furniture, paper</td>\n",
       "      <td>0.36</td>\n",
       "      <td>2.77</td>\n",
       "      <td>38</td>\n",
       "    </tr>\n",
       "    <tr>\n",
       "      <th>7</th>\n",
       "      <td>Other</td>\n",
       "      <td>0.29</td>\n",
       "      <td>2.72</td>\n",
       "      <td>37</td>\n",
       "    </tr>\n",
       "    <tr>\n",
       "      <th>8</th>\n",
       "      <td>All</td>\n",
       "      <td>0.31</td>\n",
       "      <td>2.98</td>\n",
       "      <td>300</td>\n",
       "    </tr>\n",
       "  </tbody>\n",
       "</table>\n",
       "</div>"
      ],
      "text/plain": [
       "                            Industry  Management - employment correlation  \\\n",
       "0                               Auto                                 0.50   \n",
       "1                          Chemicals                                 0.05   \n",
       "2  Machinery, equipment, electronics                                 0.28   \n",
       "3              Food, drinks, tobacco                                 0.05   \n",
       "4                  Materials, metals                                 0.32   \n",
       "5          Textile, apparel, leather                                 0.63   \n",
       "6             Wood, furniture, paper                                 0.36   \n",
       "7                              Other                                 0.29   \n",
       "8                                All                                 0.31   \n",
       "\n",
       "   Management score  Observations  \n",
       "0              3.25            26  \n",
       "1              2.97            69  \n",
       "2              3.15            36  \n",
       "3              2.87            34  \n",
       "4              2.85            50  \n",
       "5              3.29            10  \n",
       "6              2.77            38  \n",
       "7              2.72            37  \n",
       "8              2.98           300  "
      ]
     },
     "execution_count": 48,
     "metadata": {},
     "output_type": "execute_result"
    }
   ],
   "source": [
    "table41.round(2)\n"
   ]
  },
  {
   "cell_type": "markdown",
   "metadata": {},
   "source": [
    "\n",
    "## Chapter 03 plots\n",
    "---------------------------------------------------------------"
   ]
  },
  {
   "cell_type": "code",
   "execution_count": 49,
   "metadata": {},
   "outputs": [],
   "source": [
    "df2 = df.filter([\"emp3bins\", \"management\"]).loc[lambda x: x[\"emp3bins\"] == \"Small\"]\n"
   ]
  },
  {
   "cell_type": "code",
   "execution_count": 50,
   "metadata": {},
   "outputs": [],
   "source": [
    "q1 = np.quantile(df2[\"management\"], 0.25)\n",
    "q2 = np.quantile(df2[\"management\"], 0.5)\n",
    "q3 = np.quantile(df2[\"management\"], 0.75)\n",
    "iqr = q3 - q1\n",
    "ub = max(df2.loc[df2[\"management\"] < q3 + 1.5 * iqr, \"management\"])\n",
    "lb = min(df2.loc[df2[\"management\"] >= q1 - 1.5 * iqr, \"management\"])\n",
    "out_lb = min(df2[\"management\"])\n",
    "min = min(df[\"management\"])\n",
    "max = max(df[\"management\"])\n"
   ]
  },
  {
   "cell_type": "code",
   "execution_count": 51,
   "metadata": {},
   "outputs": [
    {
     "data": {
      "image/png": "[encoded data removed]",
      "text/plain": [
       "<Figure size 640x480 with 1 Axes>"
      ]
     },
     "metadata": {},
     "output_type": "display_data"
    },
    {
     "data": {
      "text/plain": [
       "<ggplot: (380577305)>"
      ]
     },
     "execution_count": 51,
     "metadata": {},
     "output_type": "execute_result"
    }
   ],
   "source": [
    "(\n",
    "    ggplot(df2, aes(x=\"emp3bins\", y=\"management\"))\n",
    "    + geom_boxplot(\n",
    "        color=color[0], fill=color[4], size=0.5, width=0.1, alpha=0.5, na_rm=True\n",
    "    )\n",
    "    + stat_boxplot(geom=\"errorbar\", width=0.05, color=color[0], size=0.5, na_rm=True)\n",
    "    + scale_y_continuous(limits=(min, max))\n",
    "    + annotate(\"text\", x=1.3, y=ub, label=\"<-- Upper adjacent value\", size=8)\n",
    "    + annotate(\"text\", x=1.3, y=q3, label=\"<-- 75th percentile (upper hinge)\", size=8)\n",
    "    + annotate(\"text\", x=1.3, y=q2, label=\"<-- Median\", size=8)\n",
    "    + annotate(\"text\", x=1.3, y=q1, label=\"<-- 25th percentile (upper hinge)\", size=8)\n",
    "    + annotate(\"text\", x=1.3, y=lb, label=\"<-- Lower adjacent value\", size=8)\n",
    "    + annotate(\"text\", x=1.3, y=out_lb, label=\"<-- Outside values\", size=8)\n",
    "    + annotate(\"text\", x=0.63, y=ub, label=\"Adjacent line\", size=8)\n",
    "    + annotate(\"text\", x=0.63, y=q3, label=\"Whiskers\", size=8)\n",
    "    + annotate(\"text\", x=0.63, y=q2, label=\"Median\", size=8)\n",
    "    + annotate(\"text\", x=0.63, y=q1, label=\"Whiskers\", size=8)\n",
    "    + annotate(\"text\", x=0.63, y=lb, label=\"Adjacent line\", size=8)\n",
    "    + geom_segment(aes(x=0.9, y=lb, xend=0.9, yend=ub))\n",
    "    + geom_segment(aes(x=0.88, y=lb, xend=0.9, yend=lb))\n",
    "    + geom_segment(aes(x=0.88, y=q1, xend=0.9, yend=q1))\n",
    "    + geom_segment(aes(x=0.88, y=q2, xend=0.9, yend=q2))\n",
    "    + geom_segment(aes(x=0.88, y=q3, xend=0.9, yend=q3))\n",
    "    + geom_segment(aes(x=0.88, y=ub, xend=0.9, yend=ub))\n",
    "    + theme_bw()\n",
    "    + theme(\n",
    "        axis_title_x=element_blank(),\n",
    "        axis_line_x=element_blank(),\n",
    "        axis_ticks=element_blank(),\n",
    "        axis_text_x=element_blank(),\n",
    "        axis_title_y=element_blank(),\n",
    "        axis_line_y=element_blank(),\n",
    "        axis_text_y=element_blank(),\n",
    "        panel_grid=element_blank(),\n",
    "        panel_border=element_blank(),\n",
    "    )\n",
    ")"
   ]
  },
  {
   "cell_type": "code",
   "execution_count": 52,
   "metadata": {},
   "outputs": [
    {
     "data": {
      "image/png": "[encoded data removed]",
      "text/plain": [
       "<Figure size 640x480 with 1 Axes>"
      ]
     },
     "metadata": {},
     "output_type": "display_data"
    },
    {
     "data": {
      "text/plain": [
       "<ggplot: (380633546)>"
      ]
     },
     "execution_count": 52,
     "metadata": {},
     "output_type": "execute_result"
    }
   ],
   "source": [
    "(\n",
    "    ggplot(df2, aes(x=\"emp3bins\", y=\"management\"))\n",
    "    + geom_violin(\n",
    "        size=0.2,\n",
    "        width=0.3,\n",
    "        trim=False,\n",
    "        show_legend=False,\n",
    "        na_rm=True,\n",
    "        color=color[0],\n",
    "        alpha=0.3,\n",
    "    )\n",
    "    + geom_boxplot(\n",
    "        color=color[0],\n",
    "        fill=color[4],\n",
    "        size=0.6,\n",
    "        width=0.1,\n",
    "        alpha=0.5,\n",
    "        na_rm=True,\n",
    "        outlier_color=\"\",\n",
    "    )\n",
    "    + annotate(\"text\", x=1.2, y=ub, label=\"<-- 95% Confidence Interval\", size=8)\n",
    "    + annotate(\"text\", x=1.2, y=lb, label=\"<-- 95% Confidence Interval\", size=8)\n",
    "    + annotate(\"text\", x=1.4, y=q3, label=\"<-- Interquartile range\", size=8)\n",
    "    + annotate(\"text\", x=1.4, y=q2, label=\"<-- Median\", size=8)\n",
    "    + ylim(1, 4)\n",
    "    + theme_bw()\n",
    "    + theme(\n",
    "        axis_title_x=element_blank(),\n",
    "        axis_line_x=element_blank(),\n",
    "        axis_ticks=element_blank(),\n",
    "        axis_text_x=element_blank(),\n",
    "        axis_title_y=element_blank(),\n",
    "        axis_line_y=element_blank(),\n",
    "        axis_text_y=element_blank(),\n",
    "        panel_grid=element_blank(),\n",
    "        panel_border=element_blank(),\n",
    "    )\n",
    ")"
   ]
  },
  {
   "cell_type": "code",
   "execution_count": null,
   "metadata": {},
   "outputs": [],
   "source": []
  }
 ],
 "metadata": {
  "kernelspec": {
   "display_name": "Python 3 (ipykernel)",
   "language": "python",
   "name": "python3"
  },
  "language_info": {
   "codemirror_mode": {
    "name": "ipython",
    "version": 3
   },
   "file_extension": ".py",
   "mimetype": "text/x-python",
   "name": "python",
   "nbconvert_exporter": "python",
   "pygments_lexer": "ipython3",
   "version": "3.8.10"
  },
  "vscode": {
   "interpreter": {
    "hash": "c01754e8627d0ea60fdf9a984fbf743943cf4db47884120dd04bfc512143b077"
   }
  }
 },
 "nbformat": 4,
 "nbformat_minor": 4
}
